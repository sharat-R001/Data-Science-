{
  "cells": [
    {
      "cell_type": "markdown",
      "metadata": {
        "id": "view-in-github",
        "colab_type": "text"
      },
      "source": [
        "<a href=\"https://colab.research.google.com/github/sharat-R001/Data-Science-/blob/main/Logistic_Regression%20.ipynb\" target=\"_parent\"><img src=\"https://colab.research.google.com/assets/colab-badge.svg\" alt=\"Open In Colab\"/></a>"
      ]
    },
    {
      "cell_type": "code",
      "execution_count": null,
      "metadata": {
        "ExecuteTime": {
          "end_time": "2022-09-12T07:50:09.605861Z",
          "start_time": "2022-09-12T07:50:05.968220Z"
        },
        "id": "o6LjxbFVGRCy"
      },
      "outputs": [],
      "source": [
        "import pandas as pd\n",
        "import numpy as np\n",
        "import seaborn as sb\n",
        "import matplotlib.pyplot as plt"
      ]
    },
    {
      "cell_type": "code",
      "execution_count": null,
      "metadata": {
        "ExecuteTime": {
          "end_time": "2022-09-12T07:50:09.933279Z",
          "start_time": "2022-09-12T07:50:09.607369Z"
        },
        "id": "4NW7J68hGRDD"
      },
      "outputs": [],
      "source": [
        "from sklearn.linear_model import LogisticRegression\n",
        "#from sklearn.model_selection import train_test_split # train and test\n",
        "from sklearn import metrics\n",
        "#from sklearn import preprocessing\n",
        "from sklearn.metrics import classification_report"
      ]
    },
    {
      "cell_type": "code",
      "execution_count": null,
      "metadata": {
        "ExecuteTime": {
          "end_time": "2022-09-12T07:50:09.979814Z",
          "start_time": "2022-09-12T07:50:09.933752Z"
        },
        "colab": {
          "base_uri": "https://localhost:8080/",
          "height": 206
        },
        "id": "Eff5NnLFGRDI",
        "outputId": "1425f5d4-c10c-4a0d-f526-ac3b5a65193a"
      },
      "outputs": [
        {
          "output_type": "execute_result",
          "data": {
            "text/plain": [
              "   CASENUM  ATTORNEY  CLMSEX  CLMINSUR  SEATBELT  CLMAGE    LOSS\n",
              "0        5         0     0.0       1.0       0.0    50.0  34.940\n",
              "1        3         1     1.0       0.0       0.0    18.0   0.891\n",
              "2       66         1     0.0       1.0       0.0     5.0   0.330\n",
              "3       70         0     0.0       1.0       1.0    31.0   0.037\n",
              "4       96         1     0.0       1.0       0.0    30.0   0.038"
            ],
            "text/html": [
              "\n",
              "  <div id=\"df-3e90bb8b-801d-47d0-96c0-2d6596350918\" class=\"colab-df-container\">\n",
              "    <div>\n",
              "<style scoped>\n",
              "    .dataframe tbody tr th:only-of-type {\n",
              "        vertical-align: middle;\n",
              "    }\n",
              "\n",
              "    .dataframe tbody tr th {\n",
              "        vertical-align: top;\n",
              "    }\n",
              "\n",
              "    .dataframe thead th {\n",
              "        text-align: right;\n",
              "    }\n",
              "</style>\n",
              "<table border=\"1\" class=\"dataframe\">\n",
              "  <thead>\n",
              "    <tr style=\"text-align: right;\">\n",
              "      <th></th>\n",
              "      <th>CASENUM</th>\n",
              "      <th>ATTORNEY</th>\n",
              "      <th>CLMSEX</th>\n",
              "      <th>CLMINSUR</th>\n",
              "      <th>SEATBELT</th>\n",
              "      <th>CLMAGE</th>\n",
              "      <th>LOSS</th>\n",
              "    </tr>\n",
              "  </thead>\n",
              "  <tbody>\n",
              "    <tr>\n",
              "      <th>0</th>\n",
              "      <td>5</td>\n",
              "      <td>0</td>\n",
              "      <td>0.0</td>\n",
              "      <td>1.0</td>\n",
              "      <td>0.0</td>\n",
              "      <td>50.0</td>\n",
              "      <td>34.940</td>\n",
              "    </tr>\n",
              "    <tr>\n",
              "      <th>1</th>\n",
              "      <td>3</td>\n",
              "      <td>1</td>\n",
              "      <td>1.0</td>\n",
              "      <td>0.0</td>\n",
              "      <td>0.0</td>\n",
              "      <td>18.0</td>\n",
              "      <td>0.891</td>\n",
              "    </tr>\n",
              "    <tr>\n",
              "      <th>2</th>\n",
              "      <td>66</td>\n",
              "      <td>1</td>\n",
              "      <td>0.0</td>\n",
              "      <td>1.0</td>\n",
              "      <td>0.0</td>\n",
              "      <td>5.0</td>\n",
              "      <td>0.330</td>\n",
              "    </tr>\n",
              "    <tr>\n",
              "      <th>3</th>\n",
              "      <td>70</td>\n",
              "      <td>0</td>\n",
              "      <td>0.0</td>\n",
              "      <td>1.0</td>\n",
              "      <td>1.0</td>\n",
              "      <td>31.0</td>\n",
              "      <td>0.037</td>\n",
              "    </tr>\n",
              "    <tr>\n",
              "      <th>4</th>\n",
              "      <td>96</td>\n",
              "      <td>1</td>\n",
              "      <td>0.0</td>\n",
              "      <td>1.0</td>\n",
              "      <td>0.0</td>\n",
              "      <td>30.0</td>\n",
              "      <td>0.038</td>\n",
              "    </tr>\n",
              "  </tbody>\n",
              "</table>\n",
              "</div>\n",
              "    <div class=\"colab-df-buttons\">\n",
              "\n",
              "  <div class=\"colab-df-container\">\n",
              "    <button class=\"colab-df-convert\" onclick=\"convertToInteractive('df-3e90bb8b-801d-47d0-96c0-2d6596350918')\"\n",
              "            title=\"Convert this dataframe to an interactive table.\"\n",
              "            style=\"display:none;\">\n",
              "\n",
              "  <svg xmlns=\"http://www.w3.org/2000/svg\" height=\"24px\" viewBox=\"0 -960 960 960\">\n",
              "    <path d=\"M120-120v-720h720v720H120Zm60-500h600v-160H180v160Zm220 220h160v-160H400v160Zm0 220h160v-160H400v160ZM180-400h160v-160H180v160Zm440 0h160v-160H620v160ZM180-180h160v-160H180v160Zm440 0h160v-160H620v160Z\"/>\n",
              "  </svg>\n",
              "    </button>\n",
              "\n",
              "  <style>\n",
              "    .colab-df-container {\n",
              "      display:flex;\n",
              "      gap: 12px;\n",
              "    }\n",
              "\n",
              "    .colab-df-convert {\n",
              "      background-color: #E8F0FE;\n",
              "      border: none;\n",
              "      border-radius: 50%;\n",
              "      cursor: pointer;\n",
              "      display: none;\n",
              "      fill: #1967D2;\n",
              "      height: 32px;\n",
              "      padding: 0 0 0 0;\n",
              "      width: 32px;\n",
              "    }\n",
              "\n",
              "    .colab-df-convert:hover {\n",
              "      background-color: #E2EBFA;\n",
              "      box-shadow: 0px 1px 2px rgba(60, 64, 67, 0.3), 0px 1px 3px 1px rgba(60, 64, 67, 0.15);\n",
              "      fill: #174EA6;\n",
              "    }\n",
              "\n",
              "    .colab-df-buttons div {\n",
              "      margin-bottom: 4px;\n",
              "    }\n",
              "\n",
              "    [theme=dark] .colab-df-convert {\n",
              "      background-color: #3B4455;\n",
              "      fill: #D2E3FC;\n",
              "    }\n",
              "\n",
              "    [theme=dark] .colab-df-convert:hover {\n",
              "      background-color: #434B5C;\n",
              "      box-shadow: 0px 1px 3px 1px rgba(0, 0, 0, 0.15);\n",
              "      filter: drop-shadow(0px 1px 2px rgba(0, 0, 0, 0.3));\n",
              "      fill: #FFFFFF;\n",
              "    }\n",
              "  </style>\n",
              "\n",
              "    <script>\n",
              "      const buttonEl =\n",
              "        document.querySelector('#df-3e90bb8b-801d-47d0-96c0-2d6596350918 button.colab-df-convert');\n",
              "      buttonEl.style.display =\n",
              "        google.colab.kernel.accessAllowed ? 'block' : 'none';\n",
              "\n",
              "      async function convertToInteractive(key) {\n",
              "        const element = document.querySelector('#df-3e90bb8b-801d-47d0-96c0-2d6596350918');\n",
              "        const dataTable =\n",
              "          await google.colab.kernel.invokeFunction('convertToInteractive',\n",
              "                                                    [key], {});\n",
              "        if (!dataTable) return;\n",
              "\n",
              "        const docLinkHtml = 'Like what you see? Visit the ' +\n",
              "          '<a target=\"_blank\" href=https://colab.research.google.com/notebooks/data_table.ipynb>data table notebook</a>'\n",
              "          + ' to learn more about interactive tables.';\n",
              "        element.innerHTML = '';\n",
              "        dataTable['output_type'] = 'display_data';\n",
              "        await google.colab.output.renderOutput(dataTable, element);\n",
              "        const docLink = document.createElement('div');\n",
              "        docLink.innerHTML = docLinkHtml;\n",
              "        element.appendChild(docLink);\n",
              "      }\n",
              "    </script>\n",
              "  </div>\n",
              "\n",
              "\n",
              "<div id=\"df-f4d5f4e8-9dfd-49f5-b4ef-ee3741921c1f\">\n",
              "  <button class=\"colab-df-quickchart\" onclick=\"quickchart('df-f4d5f4e8-9dfd-49f5-b4ef-ee3741921c1f')\"\n",
              "            title=\"Suggest charts\"\n",
              "            style=\"display:none;\">\n",
              "\n",
              "<svg xmlns=\"http://www.w3.org/2000/svg\" height=\"24px\"viewBox=\"0 0 24 24\"\n",
              "     width=\"24px\">\n",
              "    <g>\n",
              "        <path d=\"M19 3H5c-1.1 0-2 .9-2 2v14c0 1.1.9 2 2 2h14c1.1 0 2-.9 2-2V5c0-1.1-.9-2-2-2zM9 17H7v-7h2v7zm4 0h-2V7h2v10zm4 0h-2v-4h2v4z\"/>\n",
              "    </g>\n",
              "</svg>\n",
              "  </button>\n",
              "\n",
              "<style>\n",
              "  .colab-df-quickchart {\n",
              "      --bg-color: #E8F0FE;\n",
              "      --fill-color: #1967D2;\n",
              "      --hover-bg-color: #E2EBFA;\n",
              "      --hover-fill-color: #174EA6;\n",
              "      --disabled-fill-color: #AAA;\n",
              "      --disabled-bg-color: #DDD;\n",
              "  }\n",
              "\n",
              "  [theme=dark] .colab-df-quickchart {\n",
              "      --bg-color: #3B4455;\n",
              "      --fill-color: #D2E3FC;\n",
              "      --hover-bg-color: #434B5C;\n",
              "      --hover-fill-color: #FFFFFF;\n",
              "      --disabled-bg-color: #3B4455;\n",
              "      --disabled-fill-color: #666;\n",
              "  }\n",
              "\n",
              "  .colab-df-quickchart {\n",
              "    background-color: var(--bg-color);\n",
              "    border: none;\n",
              "    border-radius: 50%;\n",
              "    cursor: pointer;\n",
              "    display: none;\n",
              "    fill: var(--fill-color);\n",
              "    height: 32px;\n",
              "    padding: 0;\n",
              "    width: 32px;\n",
              "  }\n",
              "\n",
              "  .colab-df-quickchart:hover {\n",
              "    background-color: var(--hover-bg-color);\n",
              "    box-shadow: 0 1px 2px rgba(60, 64, 67, 0.3), 0 1px 3px 1px rgba(60, 64, 67, 0.15);\n",
              "    fill: var(--button-hover-fill-color);\n",
              "  }\n",
              "\n",
              "  .colab-df-quickchart-complete:disabled,\n",
              "  .colab-df-quickchart-complete:disabled:hover {\n",
              "    background-color: var(--disabled-bg-color);\n",
              "    fill: var(--disabled-fill-color);\n",
              "    box-shadow: none;\n",
              "  }\n",
              "\n",
              "  .colab-df-spinner {\n",
              "    border: 2px solid var(--fill-color);\n",
              "    border-color: transparent;\n",
              "    border-bottom-color: var(--fill-color);\n",
              "    animation:\n",
              "      spin 1s steps(1) infinite;\n",
              "  }\n",
              "\n",
              "  @keyframes spin {\n",
              "    0% {\n",
              "      border-color: transparent;\n",
              "      border-bottom-color: var(--fill-color);\n",
              "      border-left-color: var(--fill-color);\n",
              "    }\n",
              "    20% {\n",
              "      border-color: transparent;\n",
              "      border-left-color: var(--fill-color);\n",
              "      border-top-color: var(--fill-color);\n",
              "    }\n",
              "    30% {\n",
              "      border-color: transparent;\n",
              "      border-left-color: var(--fill-color);\n",
              "      border-top-color: var(--fill-color);\n",
              "      border-right-color: var(--fill-color);\n",
              "    }\n",
              "    40% {\n",
              "      border-color: transparent;\n",
              "      border-right-color: var(--fill-color);\n",
              "      border-top-color: var(--fill-color);\n",
              "    }\n",
              "    60% {\n",
              "      border-color: transparent;\n",
              "      border-right-color: var(--fill-color);\n",
              "    }\n",
              "    80% {\n",
              "      border-color: transparent;\n",
              "      border-right-color: var(--fill-color);\n",
              "      border-bottom-color: var(--fill-color);\n",
              "    }\n",
              "    90% {\n",
              "      border-color: transparent;\n",
              "      border-bottom-color: var(--fill-color);\n",
              "    }\n",
              "  }\n",
              "</style>\n",
              "\n",
              "  <script>\n",
              "    async function quickchart(key) {\n",
              "      const quickchartButtonEl =\n",
              "        document.querySelector('#' + key + ' button');\n",
              "      quickchartButtonEl.disabled = true;  // To prevent multiple clicks.\n",
              "      quickchartButtonEl.classList.add('colab-df-spinner');\n",
              "      try {\n",
              "        const charts = await google.colab.kernel.invokeFunction(\n",
              "            'suggestCharts', [key], {});\n",
              "      } catch (error) {\n",
              "        console.error('Error during call to suggestCharts:', error);\n",
              "      }\n",
              "      quickchartButtonEl.classList.remove('colab-df-spinner');\n",
              "      quickchartButtonEl.classList.add('colab-df-quickchart-complete');\n",
              "    }\n",
              "    (() => {\n",
              "      let quickchartButtonEl =\n",
              "        document.querySelector('#df-f4d5f4e8-9dfd-49f5-b4ef-ee3741921c1f button');\n",
              "      quickchartButtonEl.style.display =\n",
              "        google.colab.kernel.accessAllowed ? 'block' : 'none';\n",
              "    })();\n",
              "  </script>\n",
              "</div>\n",
              "\n",
              "    </div>\n",
              "  </div>\n"
            ],
            "application/vnd.google.colaboratory.intrinsic+json": {
              "type": "dataframe",
              "variable_name": "claimants",
              "summary": "{\n  \"name\": \"claimants\",\n  \"rows\": 1340,\n  \"fields\": [\n    {\n      \"column\": \"CASENUM\",\n      \"properties\": {\n        \"dtype\": \"number\",\n        \"std\": 9512,\n        \"min\": 0,\n        \"max\": 34153,\n        \"num_unique_values\": 1283,\n        \"samples\": [\n          33440,\n          33455,\n          7140\n        ],\n        \"semantic_type\": \"\",\n        \"description\": \"\"\n      }\n    },\n    {\n      \"column\": \"ATTORNEY\",\n      \"properties\": {\n        \"dtype\": \"number\",\n        \"std\": 0,\n        \"min\": 0,\n        \"max\": 1,\n        \"num_unique_values\": 2,\n        \"samples\": [\n          1,\n          0\n        ],\n        \"semantic_type\": \"\",\n        \"description\": \"\"\n      }\n    },\n    {\n      \"column\": \"CLMSEX\",\n      \"properties\": {\n        \"dtype\": \"number\",\n        \"std\": 0.49672527823109297,\n        \"min\": 0.0,\n        \"max\": 1.0,\n        \"num_unique_values\": 2,\n        \"samples\": [\n          1.0,\n          0.0\n        ],\n        \"semantic_type\": \"\",\n        \"description\": \"\"\n      }\n    },\n    {\n      \"column\": \"CLMINSUR\",\n      \"properties\": {\n        \"dtype\": \"number\",\n        \"std\": 0.28967139032188993,\n        \"min\": 0.0,\n        \"max\": 1.0,\n        \"num_unique_values\": 2,\n        \"samples\": [\n          0.0,\n          1.0\n        ],\n        \"semantic_type\": \"\",\n        \"description\": \"\"\n      }\n    },\n    {\n      \"column\": \"SEATBELT\",\n      \"properties\": {\n        \"dtype\": \"number\",\n        \"std\": 0.12942519349117368,\n        \"min\": 0.0,\n        \"max\": 1.0,\n        \"num_unique_values\": 2,\n        \"samples\": [\n          1.0,\n          0.0\n        ],\n        \"semantic_type\": \"\",\n        \"description\": \"\"\n      }\n    },\n    {\n      \"column\": \"CLMAGE\",\n      \"properties\": {\n        \"dtype\": \"number\",\n        \"std\": 20.30445058496312,\n        \"min\": 0.0,\n        \"max\": 95.0,\n        \"num_unique_values\": 68,\n        \"samples\": [\n          15.0,\n          39.0\n        ],\n        \"semantic_type\": \"\",\n        \"description\": \"\"\n      }\n    },\n    {\n      \"column\": \"LOSS\",\n      \"properties\": {\n        \"dtype\": \"number\",\n        \"std\": 10.63690317364136,\n        \"min\": 0.0,\n        \"max\": 173.604,\n        \"num_unique_values\": 916,\n        \"samples\": [\n          7.068,\n          0.449\n        ],\n        \"semantic_type\": \"\",\n        \"description\": \"\"\n      }\n    }\n  ]\n}"
            }
          },
          "metadata": {},
          "execution_count": 4
        }
      ],
      "source": [
        "# loading claimants data\n",
        "claimants = pd.read_csv(\"claimants.csv\")\n",
        "claimants.head()"
      ]
    },
    {
      "cell_type": "code",
      "execution_count": null,
      "metadata": {
        "ExecuteTime": {
          "end_time": "2022-09-12T07:50:09.995416Z",
          "start_time": "2022-09-12T07:50:09.981839Z"
        },
        "colab": {
          "base_uri": "https://localhost:8080/"
        },
        "id": "fj_E0UGEGRDN",
        "outputId": "e39b1383-03c8-4fad-c475-b3e9029233d4"
      },
      "outputs": [
        {
          "output_type": "execute_result",
          "data": {
            "text/plain": [
              "CASENUM       0\n",
              "ATTORNEY      0\n",
              "CLMSEX       12\n",
              "CLMINSUR     41\n",
              "SEATBELT     48\n",
              "CLMAGE      189\n",
              "LOSS          0\n",
              "dtype: int64"
            ]
          },
          "metadata": {},
          "execution_count": 5
        }
      ],
      "source": [
        "claimants.head(10)\n",
        "claimants.isnull().sum()"
      ]
    },
    {
      "cell_type": "code",
      "execution_count": null,
      "metadata": {
        "ExecuteTime": {
          "end_time": "2022-09-12T07:50:10.042088Z",
          "start_time": "2022-09-12T07:50:09.997556Z"
        },
        "id": "MJJjTx0bGRDP",
        "outputId": "f99ce8d8-1bdc-427b-d8b9-dc9f7bbd3411",
        "colab": {
          "base_uri": "https://localhost:8080/",
          "height": 300
        }
      },
      "outputs": [
        {
          "output_type": "execute_result",
          "data": {
            "text/plain": [
              "            CASENUM     ATTORNEY       CLMSEX     CLMINSUR     SEATBELT  \\\n",
              "count   1340.000000  1340.000000  1328.000000  1299.000000  1292.000000   \n",
              "mean   11202.001493     0.488806     0.558735     0.907621     0.017028   \n",
              "std     9512.750796     0.500061     0.496725     0.289671     0.129425   \n",
              "min        0.000000     0.000000     0.000000     0.000000     0.000000   \n",
              "25%     4177.000000     0.000000     0.000000     1.000000     0.000000   \n",
              "50%     8756.500000     0.000000     1.000000     1.000000     0.000000   \n",
              "75%    15702.500000     1.000000     1.000000     1.000000     0.000000   \n",
              "max    34153.000000     1.000000     1.000000     1.000000     1.000000   \n",
              "\n",
              "            CLMAGE         LOSS  \n",
              "count  1151.000000  1340.000000  \n",
              "mean     28.414422     3.806307  \n",
              "std      20.304451    10.636903  \n",
              "min       0.000000     0.000000  \n",
              "25%       9.000000     0.400000  \n",
              "50%      30.000000     1.069500  \n",
              "75%      43.000000     3.781500  \n",
              "max      95.000000   173.604000  "
            ],
            "text/html": [
              "\n",
              "  <div id=\"df-c9e54c64-01d4-4f7a-83cb-196f6e2da9e9\" class=\"colab-df-container\">\n",
              "    <div>\n",
              "<style scoped>\n",
              "    .dataframe tbody tr th:only-of-type {\n",
              "        vertical-align: middle;\n",
              "    }\n",
              "\n",
              "    .dataframe tbody tr th {\n",
              "        vertical-align: top;\n",
              "    }\n",
              "\n",
              "    .dataframe thead th {\n",
              "        text-align: right;\n",
              "    }\n",
              "</style>\n",
              "<table border=\"1\" class=\"dataframe\">\n",
              "  <thead>\n",
              "    <tr style=\"text-align: right;\">\n",
              "      <th></th>\n",
              "      <th>CASENUM</th>\n",
              "      <th>ATTORNEY</th>\n",
              "      <th>CLMSEX</th>\n",
              "      <th>CLMINSUR</th>\n",
              "      <th>SEATBELT</th>\n",
              "      <th>CLMAGE</th>\n",
              "      <th>LOSS</th>\n",
              "    </tr>\n",
              "  </thead>\n",
              "  <tbody>\n",
              "    <tr>\n",
              "      <th>count</th>\n",
              "      <td>1340.000000</td>\n",
              "      <td>1340.000000</td>\n",
              "      <td>1328.000000</td>\n",
              "      <td>1299.000000</td>\n",
              "      <td>1292.000000</td>\n",
              "      <td>1151.000000</td>\n",
              "      <td>1340.000000</td>\n",
              "    </tr>\n",
              "    <tr>\n",
              "      <th>mean</th>\n",
              "      <td>11202.001493</td>\n",
              "      <td>0.488806</td>\n",
              "      <td>0.558735</td>\n",
              "      <td>0.907621</td>\n",
              "      <td>0.017028</td>\n",
              "      <td>28.414422</td>\n",
              "      <td>3.806307</td>\n",
              "    </tr>\n",
              "    <tr>\n",
              "      <th>std</th>\n",
              "      <td>9512.750796</td>\n",
              "      <td>0.500061</td>\n",
              "      <td>0.496725</td>\n",
              "      <td>0.289671</td>\n",
              "      <td>0.129425</td>\n",
              "      <td>20.304451</td>\n",
              "      <td>10.636903</td>\n",
              "    </tr>\n",
              "    <tr>\n",
              "      <th>min</th>\n",
              "      <td>0.000000</td>\n",
              "      <td>0.000000</td>\n",
              "      <td>0.000000</td>\n",
              "      <td>0.000000</td>\n",
              "      <td>0.000000</td>\n",
              "      <td>0.000000</td>\n",
              "      <td>0.000000</td>\n",
              "    </tr>\n",
              "    <tr>\n",
              "      <th>25%</th>\n",
              "      <td>4177.000000</td>\n",
              "      <td>0.000000</td>\n",
              "      <td>0.000000</td>\n",
              "      <td>1.000000</td>\n",
              "      <td>0.000000</td>\n",
              "      <td>9.000000</td>\n",
              "      <td>0.400000</td>\n",
              "    </tr>\n",
              "    <tr>\n",
              "      <th>50%</th>\n",
              "      <td>8756.500000</td>\n",
              "      <td>0.000000</td>\n",
              "      <td>1.000000</td>\n",
              "      <td>1.000000</td>\n",
              "      <td>0.000000</td>\n",
              "      <td>30.000000</td>\n",
              "      <td>1.069500</td>\n",
              "    </tr>\n",
              "    <tr>\n",
              "      <th>75%</th>\n",
              "      <td>15702.500000</td>\n",
              "      <td>1.000000</td>\n",
              "      <td>1.000000</td>\n",
              "      <td>1.000000</td>\n",
              "      <td>0.000000</td>\n",
              "      <td>43.000000</td>\n",
              "      <td>3.781500</td>\n",
              "    </tr>\n",
              "    <tr>\n",
              "      <th>max</th>\n",
              "      <td>34153.000000</td>\n",
              "      <td>1.000000</td>\n",
              "      <td>1.000000</td>\n",
              "      <td>1.000000</td>\n",
              "      <td>1.000000</td>\n",
              "      <td>95.000000</td>\n",
              "      <td>173.604000</td>\n",
              "    </tr>\n",
              "  </tbody>\n",
              "</table>\n",
              "</div>\n",
              "    <div class=\"colab-df-buttons\">\n",
              "\n",
              "  <div class=\"colab-df-container\">\n",
              "    <button class=\"colab-df-convert\" onclick=\"convertToInteractive('df-c9e54c64-01d4-4f7a-83cb-196f6e2da9e9')\"\n",
              "            title=\"Convert this dataframe to an interactive table.\"\n",
              "            style=\"display:none;\">\n",
              "\n",
              "  <svg xmlns=\"http://www.w3.org/2000/svg\" height=\"24px\" viewBox=\"0 -960 960 960\">\n",
              "    <path d=\"M120-120v-720h720v720H120Zm60-500h600v-160H180v160Zm220 220h160v-160H400v160Zm0 220h160v-160H400v160ZM180-400h160v-160H180v160Zm440 0h160v-160H620v160ZM180-180h160v-160H180v160Zm440 0h160v-160H620v160Z\"/>\n",
              "  </svg>\n",
              "    </button>\n",
              "\n",
              "  <style>\n",
              "    .colab-df-container {\n",
              "      display:flex;\n",
              "      gap: 12px;\n",
              "    }\n",
              "\n",
              "    .colab-df-convert {\n",
              "      background-color: #E8F0FE;\n",
              "      border: none;\n",
              "      border-radius: 50%;\n",
              "      cursor: pointer;\n",
              "      display: none;\n",
              "      fill: #1967D2;\n",
              "      height: 32px;\n",
              "      padding: 0 0 0 0;\n",
              "      width: 32px;\n",
              "    }\n",
              "\n",
              "    .colab-df-convert:hover {\n",
              "      background-color: #E2EBFA;\n",
              "      box-shadow: 0px 1px 2px rgba(60, 64, 67, 0.3), 0px 1px 3px 1px rgba(60, 64, 67, 0.15);\n",
              "      fill: #174EA6;\n",
              "    }\n",
              "\n",
              "    .colab-df-buttons div {\n",
              "      margin-bottom: 4px;\n",
              "    }\n",
              "\n",
              "    [theme=dark] .colab-df-convert {\n",
              "      background-color: #3B4455;\n",
              "      fill: #D2E3FC;\n",
              "    }\n",
              "\n",
              "    [theme=dark] .colab-df-convert:hover {\n",
              "      background-color: #434B5C;\n",
              "      box-shadow: 0px 1px 3px 1px rgba(0, 0, 0, 0.15);\n",
              "      filter: drop-shadow(0px 1px 2px rgba(0, 0, 0, 0.3));\n",
              "      fill: #FFFFFF;\n",
              "    }\n",
              "  </style>\n",
              "\n",
              "    <script>\n",
              "      const buttonEl =\n",
              "        document.querySelector('#df-c9e54c64-01d4-4f7a-83cb-196f6e2da9e9 button.colab-df-convert');\n",
              "      buttonEl.style.display =\n",
              "        google.colab.kernel.accessAllowed ? 'block' : 'none';\n",
              "\n",
              "      async function convertToInteractive(key) {\n",
              "        const element = document.querySelector('#df-c9e54c64-01d4-4f7a-83cb-196f6e2da9e9');\n",
              "        const dataTable =\n",
              "          await google.colab.kernel.invokeFunction('convertToInteractive',\n",
              "                                                    [key], {});\n",
              "        if (!dataTable) return;\n",
              "\n",
              "        const docLinkHtml = 'Like what you see? Visit the ' +\n",
              "          '<a target=\"_blank\" href=https://colab.research.google.com/notebooks/data_table.ipynb>data table notebook</a>'\n",
              "          + ' to learn more about interactive tables.';\n",
              "        element.innerHTML = '';\n",
              "        dataTable['output_type'] = 'display_data';\n",
              "        await google.colab.output.renderOutput(dataTable, element);\n",
              "        const docLink = document.createElement('div');\n",
              "        docLink.innerHTML = docLinkHtml;\n",
              "        element.appendChild(docLink);\n",
              "      }\n",
              "    </script>\n",
              "  </div>\n",
              "\n",
              "\n",
              "<div id=\"df-357761df-210f-4723-b8cb-97515a56960f\">\n",
              "  <button class=\"colab-df-quickchart\" onclick=\"quickchart('df-357761df-210f-4723-b8cb-97515a56960f')\"\n",
              "            title=\"Suggest charts\"\n",
              "            style=\"display:none;\">\n",
              "\n",
              "<svg xmlns=\"http://www.w3.org/2000/svg\" height=\"24px\"viewBox=\"0 0 24 24\"\n",
              "     width=\"24px\">\n",
              "    <g>\n",
              "        <path d=\"M19 3H5c-1.1 0-2 .9-2 2v14c0 1.1.9 2 2 2h14c1.1 0 2-.9 2-2V5c0-1.1-.9-2-2-2zM9 17H7v-7h2v7zm4 0h-2V7h2v10zm4 0h-2v-4h2v4z\"/>\n",
              "    </g>\n",
              "</svg>\n",
              "  </button>\n",
              "\n",
              "<style>\n",
              "  .colab-df-quickchart {\n",
              "      --bg-color: #E8F0FE;\n",
              "      --fill-color: #1967D2;\n",
              "      --hover-bg-color: #E2EBFA;\n",
              "      --hover-fill-color: #174EA6;\n",
              "      --disabled-fill-color: #AAA;\n",
              "      --disabled-bg-color: #DDD;\n",
              "  }\n",
              "\n",
              "  [theme=dark] .colab-df-quickchart {\n",
              "      --bg-color: #3B4455;\n",
              "      --fill-color: #D2E3FC;\n",
              "      --hover-bg-color: #434B5C;\n",
              "      --hover-fill-color: #FFFFFF;\n",
              "      --disabled-bg-color: #3B4455;\n",
              "      --disabled-fill-color: #666;\n",
              "  }\n",
              "\n",
              "  .colab-df-quickchart {\n",
              "    background-color: var(--bg-color);\n",
              "    border: none;\n",
              "    border-radius: 50%;\n",
              "    cursor: pointer;\n",
              "    display: none;\n",
              "    fill: var(--fill-color);\n",
              "    height: 32px;\n",
              "    padding: 0;\n",
              "    width: 32px;\n",
              "  }\n",
              "\n",
              "  .colab-df-quickchart:hover {\n",
              "    background-color: var(--hover-bg-color);\n",
              "    box-shadow: 0 1px 2px rgba(60, 64, 67, 0.3), 0 1px 3px 1px rgba(60, 64, 67, 0.15);\n",
              "    fill: var(--button-hover-fill-color);\n",
              "  }\n",
              "\n",
              "  .colab-df-quickchart-complete:disabled,\n",
              "  .colab-df-quickchart-complete:disabled:hover {\n",
              "    background-color: var(--disabled-bg-color);\n",
              "    fill: var(--disabled-fill-color);\n",
              "    box-shadow: none;\n",
              "  }\n",
              "\n",
              "  .colab-df-spinner {\n",
              "    border: 2px solid var(--fill-color);\n",
              "    border-color: transparent;\n",
              "    border-bottom-color: var(--fill-color);\n",
              "    animation:\n",
              "      spin 1s steps(1) infinite;\n",
              "  }\n",
              "\n",
              "  @keyframes spin {\n",
              "    0% {\n",
              "      border-color: transparent;\n",
              "      border-bottom-color: var(--fill-color);\n",
              "      border-left-color: var(--fill-color);\n",
              "    }\n",
              "    20% {\n",
              "      border-color: transparent;\n",
              "      border-left-color: var(--fill-color);\n",
              "      border-top-color: var(--fill-color);\n",
              "    }\n",
              "    30% {\n",
              "      border-color: transparent;\n",
              "      border-left-color: var(--fill-color);\n",
              "      border-top-color: var(--fill-color);\n",
              "      border-right-color: var(--fill-color);\n",
              "    }\n",
              "    40% {\n",
              "      border-color: transparent;\n",
              "      border-right-color: var(--fill-color);\n",
              "      border-top-color: var(--fill-color);\n",
              "    }\n",
              "    60% {\n",
              "      border-color: transparent;\n",
              "      border-right-color: var(--fill-color);\n",
              "    }\n",
              "    80% {\n",
              "      border-color: transparent;\n",
              "      border-right-color: var(--fill-color);\n",
              "      border-bottom-color: var(--fill-color);\n",
              "    }\n",
              "    90% {\n",
              "      border-color: transparent;\n",
              "      border-bottom-color: var(--fill-color);\n",
              "    }\n",
              "  }\n",
              "</style>\n",
              "\n",
              "  <script>\n",
              "    async function quickchart(key) {\n",
              "      const quickchartButtonEl =\n",
              "        document.querySelector('#' + key + ' button');\n",
              "      quickchartButtonEl.disabled = true;  // To prevent multiple clicks.\n",
              "      quickchartButtonEl.classList.add('colab-df-spinner');\n",
              "      try {\n",
              "        const charts = await google.colab.kernel.invokeFunction(\n",
              "            'suggestCharts', [key], {});\n",
              "      } catch (error) {\n",
              "        console.error('Error during call to suggestCharts:', error);\n",
              "      }\n",
              "      quickchartButtonEl.classList.remove('colab-df-spinner');\n",
              "      quickchartButtonEl.classList.add('colab-df-quickchart-complete');\n",
              "    }\n",
              "    (() => {\n",
              "      let quickchartButtonEl =\n",
              "        document.querySelector('#df-357761df-210f-4723-b8cb-97515a56960f button');\n",
              "      quickchartButtonEl.style.display =\n",
              "        google.colab.kernel.accessAllowed ? 'block' : 'none';\n",
              "    })();\n",
              "  </script>\n",
              "</div>\n",
              "\n",
              "    </div>\n",
              "  </div>\n"
            ],
            "application/vnd.google.colaboratory.intrinsic+json": {
              "type": "dataframe",
              "summary": "{\n  \"name\": \"claimants\",\n  \"rows\": 8,\n  \"fields\": [\n    {\n      \"column\": \"CASENUM\",\n      \"properties\": {\n        \"dtype\": \"number\",\n        \"std\": 10856.759670794445,\n        \"min\": 0.0,\n        \"max\": 34153.0,\n        \"num_unique_values\": 8,\n        \"samples\": [\n          11202.001492537314,\n          8756.5,\n          1340.0\n        ],\n        \"semantic_type\": \"\",\n        \"description\": \"\"\n      }\n    },\n    {\n      \"column\": \"ATTORNEY\",\n      \"properties\": {\n        \"dtype\": \"number\",\n        \"std\": 473.6107657123064,\n        \"min\": 0.0,\n        \"max\": 1340.0,\n        \"num_unique_values\": 5,\n        \"samples\": [\n          0.48880597014925375,\n          1.0,\n          0.5000613028530422\n        ],\n        \"semantic_type\": \"\",\n        \"description\": \"\"\n      }\n    },\n    {\n      \"column\": \"CLMSEX\",\n      \"properties\": {\n        \"dtype\": \"number\",\n        \"std\": 469.3142551004854,\n        \"min\": 0.0,\n        \"max\": 1328.0,\n        \"num_unique_values\": 5,\n        \"samples\": [\n          0.5587349397590361,\n          1.0,\n          0.49672527823109297\n        ],\n        \"semantic_type\": \"\",\n        \"description\": \"\"\n      }\n    },\n    {\n      \"column\": \"CLMINSUR\",\n      \"properties\": {\n        \"dtype\": \"number\",\n        \"std\": 459.0035146800529,\n        \"min\": 0.0,\n        \"max\": 1299.0,\n        \"num_unique_values\": 5,\n        \"samples\": [\n          0.9076212471131639,\n          1.0,\n          0.28967139032188993\n        ],\n        \"semantic_type\": \"\",\n        \"description\": \"\"\n      }\n    },\n    {\n      \"column\": \"SEATBELT\",\n      \"properties\": {\n        \"dtype\": \"number\",\n        \"std\": 456.73320571345187,\n        \"min\": 0.0,\n        \"max\": 1292.0,\n        \"num_unique_values\": 5,\n        \"samples\": [\n          0.017027863777089782,\n          1.0,\n          0.12942519349117368\n        ],\n        \"semantic_type\": \"\",\n        \"description\": \"\"\n      }\n    },\n    {\n      \"column\": \"CLMAGE\",\n      \"properties\": {\n        \"dtype\": \"number\",\n        \"std\": 396.584758235919,\n        \"min\": 0.0,\n        \"max\": 1151.0,\n        \"num_unique_values\": 8,\n        \"samples\": [\n          28.414422241529106,\n          30.0,\n          1151.0\n        ],\n        \"semantic_type\": \"\",\n        \"description\": \"\"\n      }\n    },\n    {\n      \"column\": \"LOSS\",\n      \"properties\": {\n        \"dtype\": \"number\",\n        \"std\": 467.8226402345135,\n        \"min\": 0.0,\n        \"max\": 1340.0,\n        \"num_unique_values\": 8,\n        \"samples\": [\n          3.8063067164179105,\n          1.0695000000000001,\n          1340.0\n        ],\n        \"semantic_type\": \"\",\n        \"description\": \"\"\n      }\n    }\n  ]\n}"
            }
          },
          "metadata": {},
          "execution_count": 7
        }
      ],
      "source": [
        "claimants.describe()"
      ]
    },
    {
      "cell_type": "code",
      "execution_count": null,
      "metadata": {
        "ExecuteTime": {
          "end_time": "2022-09-12T07:50:10.304025Z",
          "start_time": "2022-09-12T07:50:10.044327Z"
        },
        "id": "1G50UEaoGRDR",
        "outputId": "2e0c7343-af45-4716-bb20-fc1f3f626f7b",
        "colab": {
          "base_uri": "https://localhost:8080/",
          "height": 573
        }
      },
      "outputs": [
        {
          "output_type": "stream",
          "name": "stderr",
          "text": [
            "<ipython-input-8-df69db65a1aa>:1: FutureWarning: \n",
            "\n",
            "Passing `palette` without assigning `hue` is deprecated and will be removed in v0.14.0. Assign the `x` variable to `hue` and set `legend=False` for the same effect.\n",
            "\n",
            "  sb.boxplot(x=\"ATTORNEY\",y=\"CLMAGE\",data=claimants,palette=\"hls\")\n"
          ]
        },
        {
          "output_type": "execute_result",
          "data": {
            "text/plain": [
              "<Axes: xlabel='ATTORNEY', ylabel='CLMAGE'>"
            ]
          },
          "metadata": {},
          "execution_count": 8
        },
        {
          "output_type": "display_data",
          "data": {
            "text/plain": [
              "<Figure size 640x480 with 1 Axes>"
            ],
            "image/png": "[encoded data removed]"
          },
          "metadata": {}
        }
      ],
      "source": [
        "\n",
        "sb.boxplot(x=\"ATTORNEY\",y=\"CLMAGE\",data=claimants,palette=\"hls\")"
      ]
    },
    {
      "cell_type": "code",
      "execution_count": null,
      "metadata": {
        "ExecuteTime": {
          "end_time": "2022-09-12T07:50:10.319508Z",
          "start_time": "2022-09-12T07:50:10.304415Z"
        },
        "id": "KyqhQyLXGRDW"
      },
      "outputs": [],
      "source": [
        "# Droping first column\n",
        "claimants.drop([\"CASENUM\"],inplace=True,axis = 1)\n",
        "#cat_cols = [\"ATTORNEY\",\"CLMSEX\",\"SEATBELT\",\"CLMINSUR\"]\n",
        "#cont_cols = [\"CLMAGE\",\"LOSS\"]\n",
        "\n",
        "# Getting the barplot for the categorical columns"
      ]
    },
    {
      "cell_type": "code",
      "execution_count": null,
      "metadata": {
        "ExecuteTime": {
          "end_time": "2022-09-12T07:50:10.349901Z",
          "start_time": "2022-09-12T07:50:10.321551Z"
        },
        "id": "ePdMUn-KGRDY",
        "outputId": "eb9429b4-e9f3-4f87-c38f-7201aed1ca25",
        "colab": {
          "base_uri": "https://localhost:8080/",
          "height": 206
        }
      },
      "outputs": [
        {
          "output_type": "execute_result",
          "data": {
            "text/plain": [
              "   CASENUM  ATTORNEY  CLMSEX  CLMINSUR  SEATBELT  CLMAGE    LOSS\n",
              "0        5         0     0.0       1.0       0.0    50.0  34.940\n",
              "1        3         1     1.0       0.0       0.0    18.0   0.891\n",
              "2       66         1     0.0       1.0       0.0     5.0   0.330\n",
              "3       70         0     0.0       1.0       1.0    31.0   0.037\n",
              "4       96         1     0.0       1.0       0.0    30.0   0.038"
            ],
            "text/html": [
              "\n",
              "  <div id=\"df-41c2f0bc-3db6-4450-a3c4-ba59e6d6127e\" class=\"colab-df-container\">\n",
              "    <div>\n",
              "<style scoped>\n",
              "    .dataframe tbody tr th:only-of-type {\n",
              "        vertical-align: middle;\n",
              "    }\n",
              "\n",
              "    .dataframe tbody tr th {\n",
              "        vertical-align: top;\n",
              "    }\n",
              "\n",
              "    .dataframe thead th {\n",
              "        text-align: right;\n",
              "    }\n",
              "</style>\n",
              "<table border=\"1\" class=\"dataframe\">\n",
              "  <thead>\n",
              "    <tr style=\"text-align: right;\">\n",
              "      <th></th>\n",
              "      <th>CASENUM</th>\n",
              "      <th>ATTORNEY</th>\n",
              "      <th>CLMSEX</th>\n",
              "      <th>CLMINSUR</th>\n",
              "      <th>SEATBELT</th>\n",
              "      <th>CLMAGE</th>\n",
              "      <th>LOSS</th>\n",
              "    </tr>\n",
              "  </thead>\n",
              "  <tbody>\n",
              "    <tr>\n",
              "      <th>0</th>\n",
              "      <td>5</td>\n",
              "      <td>0</td>\n",
              "      <td>0.0</td>\n",
              "      <td>1.0</td>\n",
              "      <td>0.0</td>\n",
              "      <td>50.0</td>\n",
              "      <td>34.940</td>\n",
              "    </tr>\n",
              "    <tr>\n",
              "      <th>1</th>\n",
              "      <td>3</td>\n",
              "      <td>1</td>\n",
              "      <td>1.0</td>\n",
              "      <td>0.0</td>\n",
              "      <td>0.0</td>\n",
              "      <td>18.0</td>\n",
              "      <td>0.891</td>\n",
              "    </tr>\n",
              "    <tr>\n",
              "      <th>2</th>\n",
              "      <td>66</td>\n",
              "      <td>1</td>\n",
              "      <td>0.0</td>\n",
              "      <td>1.0</td>\n",
              "      <td>0.0</td>\n",
              "      <td>5.0</td>\n",
              "      <td>0.330</td>\n",
              "    </tr>\n",
              "    <tr>\n",
              "      <th>3</th>\n",
              "      <td>70</td>\n",
              "      <td>0</td>\n",
              "      <td>0.0</td>\n",
              "      <td>1.0</td>\n",
              "      <td>1.0</td>\n",
              "      <td>31.0</td>\n",
              "      <td>0.037</td>\n",
              "    </tr>\n",
              "    <tr>\n",
              "      <th>4</th>\n",
              "      <td>96</td>\n",
              "      <td>1</td>\n",
              "      <td>0.0</td>\n",
              "      <td>1.0</td>\n",
              "      <td>0.0</td>\n",
              "      <td>30.0</td>\n",
              "      <td>0.038</td>\n",
              "    </tr>\n",
              "  </tbody>\n",
              "</table>\n",
              "</div>\n",
              "    <div class=\"colab-df-buttons\">\n",
              "\n",
              "  <div class=\"colab-df-container\">\n",
              "    <button class=\"colab-df-convert\" onclick=\"convertToInteractive('df-41c2f0bc-3db6-4450-a3c4-ba59e6d6127e')\"\n",
              "            title=\"Convert this dataframe to an interactive table.\"\n",
              "            style=\"display:none;\">\n",
              "\n",
              "  <svg xmlns=\"http://www.w3.org/2000/svg\" height=\"24px\" viewBox=\"0 -960 960 960\">\n",
              "    <path d=\"M120-120v-720h720v720H120Zm60-500h600v-160H180v160Zm220 220h160v-160H400v160Zm0 220h160v-160H400v160ZM180-400h160v-160H180v160Zm440 0h160v-160H620v160ZM180-180h160v-160H180v160Zm440 0h160v-160H620v160Z\"/>\n",
              "  </svg>\n",
              "    </button>\n",
              "\n",
              "  <style>\n",
              "    .colab-df-container {\n",
              "      display:flex;\n",
              "      gap: 12px;\n",
              "    }\n",
              "\n",
              "    .colab-df-convert {\n",
              "      background-color: #E8F0FE;\n",
              "      border: none;\n",
              "      border-radius: 50%;\n",
              "      cursor: pointer;\n",
              "      display: none;\n",
              "      fill: #1967D2;\n",
              "      height: 32px;\n",
              "      padding: 0 0 0 0;\n",
              "      width: 32px;\n",
              "    }\n",
              "\n",
              "    .colab-df-convert:hover {\n",
              "      background-color: #E2EBFA;\n",
              "      box-shadow: 0px 1px 2px rgba(60, 64, 67, 0.3), 0px 1px 3px 1px rgba(60, 64, 67, 0.15);\n",
              "      fill: #174EA6;\n",
              "    }\n",
              "\n",
              "    .colab-df-buttons div {\n",
              "      margin-bottom: 4px;\n",
              "    }\n",
              "\n",
              "    [theme=dark] .colab-df-convert {\n",
              "      background-color: #3B4455;\n",
              "      fill: #D2E3FC;\n",
              "    }\n",
              "\n",
              "    [theme=dark] .colab-df-convert:hover {\n",
              "      background-color: #434B5C;\n",
              "      box-shadow: 0px 1px 3px 1px rgba(0, 0, 0, 0.15);\n",
              "      filter: drop-shadow(0px 1px 2px rgba(0, 0, 0, 0.3));\n",
              "      fill: #FFFFFF;\n",
              "    }\n",
              "  </style>\n",
              "\n",
              "    <script>\n",
              "      const buttonEl =\n",
              "        document.querySelector('#df-41c2f0bc-3db6-4450-a3c4-ba59e6d6127e button.colab-df-convert');\n",
              "      buttonEl.style.display =\n",
              "        google.colab.kernel.accessAllowed ? 'block' : 'none';\n",
              "\n",
              "      async function convertToInteractive(key) {\n",
              "        const element = document.querySelector('#df-41c2f0bc-3db6-4450-a3c4-ba59e6d6127e');\n",
              "        const dataTable =\n",
              "          await google.colab.kernel.invokeFunction('convertToInteractive',\n",
              "                                                    [key], {});\n",
              "        if (!dataTable) return;\n",
              "\n",
              "        const docLinkHtml = 'Like what you see? Visit the ' +\n",
              "          '<a target=\"_blank\" href=https://colab.research.google.com/notebooks/data_table.ipynb>data table notebook</a>'\n",
              "          + ' to learn more about interactive tables.';\n",
              "        element.innerHTML = '';\n",
              "        dataTable['output_type'] = 'display_data';\n",
              "        await google.colab.output.renderOutput(dataTable, element);\n",
              "        const docLink = document.createElement('div');\n",
              "        docLink.innerHTML = docLinkHtml;\n",
              "        element.appendChild(docLink);\n",
              "      }\n",
              "    </script>\n",
              "  </div>\n",
              "\n",
              "\n",
              "<div id=\"df-e73a5448-404a-4132-b1a9-66b699d3c692\">\n",
              "  <button class=\"colab-df-quickchart\" onclick=\"quickchart('df-e73a5448-404a-4132-b1a9-66b699d3c692')\"\n",
              "            title=\"Suggest charts\"\n",
              "            style=\"display:none;\">\n",
              "\n",
              "<svg xmlns=\"http://www.w3.org/2000/svg\" height=\"24px\"viewBox=\"0 0 24 24\"\n",
              "     width=\"24px\">\n",
              "    <g>\n",
              "        <path d=\"M19 3H5c-1.1 0-2 .9-2 2v14c0 1.1.9 2 2 2h14c1.1 0 2-.9 2-2V5c0-1.1-.9-2-2-2zM9 17H7v-7h2v7zm4 0h-2V7h2v10zm4 0h-2v-4h2v4z\"/>\n",
              "    </g>\n",
              "</svg>\n",
              "  </button>\n",
              "\n",
              "<style>\n",
              "  .colab-df-quickchart {\n",
              "      --bg-color: #E8F0FE;\n",
              "      --fill-color: #1967D2;\n",
              "      --hover-bg-color: #E2EBFA;\n",
              "      --hover-fill-color: #174EA6;\n",
              "      --disabled-fill-color: #AAA;\n",
              "      --disabled-bg-color: #DDD;\n",
              "  }\n",
              "\n",
              "  [theme=dark] .colab-df-quickchart {\n",
              "      --bg-color: #3B4455;\n",
              "      --fill-color: #D2E3FC;\n",
              "      --hover-bg-color: #434B5C;\n",
              "      --hover-fill-color: #FFFFFF;\n",
              "      --disabled-bg-color: #3B4455;\n",
              "      --disabled-fill-color: #666;\n",
              "  }\n",
              "\n",
              "  .colab-df-quickchart {\n",
              "    background-color: var(--bg-color);\n",
              "    border: none;\n",
              "    border-radius: 50%;\n",
              "    cursor: pointer;\n",
              "    display: none;\n",
              "    fill: var(--fill-color);\n",
              "    height: 32px;\n",
              "    padding: 0;\n",
              "    width: 32px;\n",
              "  }\n",
              "\n",
              "  .colab-df-quickchart:hover {\n",
              "    background-color: var(--hover-bg-color);\n",
              "    box-shadow: 0 1px 2px rgba(60, 64, 67, 0.3), 0 1px 3px 1px rgba(60, 64, 67, 0.15);\n",
              "    fill: var(--button-hover-fill-color);\n",
              "  }\n",
              "\n",
              "  .colab-df-quickchart-complete:disabled,\n",
              "  .colab-df-quickchart-complete:disabled:hover {\n",
              "    background-color: var(--disabled-bg-color);\n",
              "    fill: var(--disabled-fill-color);\n",
              "    box-shadow: none;\n",
              "  }\n",
              "\n",
              "  .colab-df-spinner {\n",
              "    border: 2px solid var(--fill-color);\n",
              "    border-color: transparent;\n",
              "    border-bottom-color: var(--fill-color);\n",
              "    animation:\n",
              "      spin 1s steps(1) infinite;\n",
              "  }\n",
              "\n",
              "  @keyframes spin {\n",
              "    0% {\n",
              "      border-color: transparent;\n",
              "      border-bottom-color: var(--fill-color);\n",
              "      border-left-color: var(--fill-color);\n",
              "    }\n",
              "    20% {\n",
              "      border-color: transparent;\n",
              "      border-left-color: var(--fill-color);\n",
              "      border-top-color: var(--fill-color);\n",
              "    }\n",
              "    30% {\n",
              "      border-color: transparent;\n",
              "      border-left-color: var(--fill-color);\n",
              "      border-top-color: var(--fill-color);\n",
              "      border-right-color: var(--fill-color);\n",
              "    }\n",
              "    40% {\n",
              "      border-color: transparent;\n",
              "      border-right-color: var(--fill-color);\n",
              "      border-top-color: var(--fill-color);\n",
              "    }\n",
              "    60% {\n",
              "      border-color: transparent;\n",
              "      border-right-color: var(--fill-color);\n",
              "    }\n",
              "    80% {\n",
              "      border-color: transparent;\n",
              "      border-right-color: var(--fill-color);\n",
              "      border-bottom-color: var(--fill-color);\n",
              "    }\n",
              "    90% {\n",
              "      border-color: transparent;\n",
              "      border-bottom-color: var(--fill-color);\n",
              "    }\n",
              "  }\n",
              "</style>\n",
              "\n",
              "  <script>\n",
              "    async function quickchart(key) {\n",
              "      const quickchartButtonEl =\n",
              "        document.querySelector('#' + key + ' button');\n",
              "      quickchartButtonEl.disabled = true;  // To prevent multiple clicks.\n",
              "      quickchartButtonEl.classList.add('colab-df-spinner');\n",
              "      try {\n",
              "        const charts = await google.colab.kernel.invokeFunction(\n",
              "            'suggestCharts', [key], {});\n",
              "      } catch (error) {\n",
              "        console.error('Error during call to suggestCharts:', error);\n",
              "      }\n",
              "      quickchartButtonEl.classList.remove('colab-df-spinner');\n",
              "      quickchartButtonEl.classList.add('colab-df-quickchart-complete');\n",
              "    }\n",
              "    (() => {\n",
              "      let quickchartButtonEl =\n",
              "        document.querySelector('#df-e73a5448-404a-4132-b1a9-66b699d3c692 button');\n",
              "      quickchartButtonEl.style.display =\n",
              "        google.colab.kernel.accessAllowed ? 'block' : 'none';\n",
              "    })();\n",
              "  </script>\n",
              "</div>\n",
              "\n",
              "    </div>\n",
              "  </div>\n"
            ],
            "application/vnd.google.colaboratory.intrinsic+json": {
              "type": "dataframe",
              "variable_name": "claimants",
              "summary": "{\n  \"name\": \"claimants\",\n  \"rows\": 1340,\n  \"fields\": [\n    {\n      \"column\": \"CASENUM\",\n      \"properties\": {\n        \"dtype\": \"number\",\n        \"std\": 9512,\n        \"min\": 0,\n        \"max\": 34153,\n        \"num_unique_values\": 1283,\n        \"samples\": [\n          33440,\n          33455,\n          7140\n        ],\n        \"semantic_type\": \"\",\n        \"description\": \"\"\n      }\n    },\n    {\n      \"column\": \"ATTORNEY\",\n      \"properties\": {\n        \"dtype\": \"number\",\n        \"std\": 0,\n        \"min\": 0,\n        \"max\": 1,\n        \"num_unique_values\": 2,\n        \"samples\": [\n          1,\n          0\n        ],\n        \"semantic_type\": \"\",\n        \"description\": \"\"\n      }\n    },\n    {\n      \"column\": \"CLMSEX\",\n      \"properties\": {\n        \"dtype\": \"number\",\n        \"std\": 0.49672527823109297,\n        \"min\": 0.0,\n        \"max\": 1.0,\n        \"num_unique_values\": 2,\n        \"samples\": [\n          1.0,\n          0.0\n        ],\n        \"semantic_type\": \"\",\n        \"description\": \"\"\n      }\n    },\n    {\n      \"column\": \"CLMINSUR\",\n      \"properties\": {\n        \"dtype\": \"number\",\n        \"std\": 0.28967139032188993,\n        \"min\": 0.0,\n        \"max\": 1.0,\n        \"num_unique_values\": 2,\n        \"samples\": [\n          0.0,\n          1.0\n        ],\n        \"semantic_type\": \"\",\n        \"description\": \"\"\n      }\n    },\n    {\n      \"column\": \"SEATBELT\",\n      \"properties\": {\n        \"dtype\": \"number\",\n        \"std\": 0.12942519349117368,\n        \"min\": 0.0,\n        \"max\": 1.0,\n        \"num_unique_values\": 2,\n        \"samples\": [\n          1.0,\n          0.0\n        ],\n        \"semantic_type\": \"\",\n        \"description\": \"\"\n      }\n    },\n    {\n      \"column\": \"CLMAGE\",\n      \"properties\": {\n        \"dtype\": \"number\",\n        \"std\": 20.30445058496312,\n        \"min\": 0.0,\n        \"max\": 95.0,\n        \"num_unique_values\": 68,\n        \"samples\": [\n          15.0,\n          39.0\n        ],\n        \"semantic_type\": \"\",\n        \"description\": \"\"\n      }\n    },\n    {\n      \"column\": \"LOSS\",\n      \"properties\": {\n        \"dtype\": \"number\",\n        \"std\": 10.63690317364136,\n        \"min\": 0.0,\n        \"max\": 173.604,\n        \"num_unique_values\": 916,\n        \"samples\": [\n          7.068,\n          0.449\n        ],\n        \"semantic_type\": \"\",\n        \"description\": \"\"\n      }\n    }\n  ]\n}"
            }
          },
          "metadata": {},
          "execution_count": 10
        }
      ],
      "source": [
        "claimants.head()"
      ]
    },
    {
      "cell_type": "code",
      "execution_count": null,
      "metadata": {
        "ExecuteTime": {
          "end_time": "2022-09-12T07:50:10.459697Z",
          "start_time": "2022-09-12T07:50:10.351183Z"
        },
        "id": "x2xBETsMGRDc",
        "outputId": "28510bcd-3f67-45de-8d03-41f8bc0b4074"
      },
      "outputs": [
        {
          "data": {
            "text/plain": [
              "<AxesSubplot:xlabel='ATTORNEY', ylabel='count'>"
            ]
          },
          "execution_count": 9,
          "metadata": {},
          "output_type": "execute_result"
        },
        {
          "data": {
            "image/png": "[encoded data removed]",
            "text/plain": [
              "<Figure size 432x288 with 1 Axes>"
            ]
          },
          "metadata": {
            "needs_background": "light"
          },
          "output_type": "display_data"
        }
      ],
      "source": [
        "sb.countplot(x=\"ATTORNEY\",data=claimants,palette=\"hls\")\n"
      ]
    },
    {
      "cell_type": "code",
      "execution_count": null,
      "metadata": {
        "ExecuteTime": {
          "end_time": "2022-09-12T07:50:10.506257Z",
          "start_time": "2022-09-12T07:50:10.462941Z"
        },
        "id": "xj7TCE_IGRDd",
        "outputId": "c7ad3b47-1e16-4fc4-e2d5-b01fa9449572",
        "colab": {
          "base_uri": "https://localhost:8080/",
          "height": 143
        }
      },
      "outputs": [
        {
          "output_type": "execute_result",
          "data": {
            "text/plain": [
              "CLMINSUR  0.0  1.0\n",
              "ATTORNEY          \n",
              "0          76  585\n",
              "1          44  594"
            ],
            "text/html": [
              "\n",
              "  <div id=\"df-0ded9259-984f-488e-a86e-c60d4f17c39b\" class=\"colab-df-container\">\n",
              "    <div>\n",
              "<style scoped>\n",
              "    .dataframe tbody tr th:only-of-type {\n",
              "        vertical-align: middle;\n",
              "    }\n",
              "\n",
              "    .dataframe tbody tr th {\n",
              "        vertical-align: top;\n",
              "    }\n",
              "\n",
              "    .dataframe thead th {\n",
              "        text-align: right;\n",
              "    }\n",
              "</style>\n",
              "<table border=\"1\" class=\"dataframe\">\n",
              "  <thead>\n",
              "    <tr style=\"text-align: right;\">\n",
              "      <th>CLMINSUR</th>\n",
              "      <th>0.0</th>\n",
              "      <th>1.0</th>\n",
              "    </tr>\n",
              "    <tr>\n",
              "      <th>ATTORNEY</th>\n",
              "      <th></th>\n",
              "      <th></th>\n",
              "    </tr>\n",
              "  </thead>\n",
              "  <tbody>\n",
              "    <tr>\n",
              "      <th>0</th>\n",
              "      <td>76</td>\n",
              "      <td>585</td>\n",
              "    </tr>\n",
              "    <tr>\n",
              "      <th>1</th>\n",
              "      <td>44</td>\n",
              "      <td>594</td>\n",
              "    </tr>\n",
              "  </tbody>\n",
              "</table>\n",
              "</div>\n",
              "    <div class=\"colab-df-buttons\">\n",
              "\n",
              "  <div class=\"colab-df-container\">\n",
              "    <button class=\"colab-df-convert\" onclick=\"convertToInteractive('df-0ded9259-984f-488e-a86e-c60d4f17c39b')\"\n",
              "            title=\"Convert this dataframe to an interactive table.\"\n",
              "            style=\"display:none;\">\n",
              "\n",
              "  <svg xmlns=\"http://www.w3.org/2000/svg\" height=\"24px\" viewBox=\"0 -960 960 960\">\n",
              "    <path d=\"M120-120v-720h720v720H120Zm60-500h600v-160H180v160Zm220 220h160v-160H400v160Zm0 220h160v-160H400v160ZM180-400h160v-160H180v160Zm440 0h160v-160H620v160ZM180-180h160v-160H180v160Zm440 0h160v-160H620v160Z\"/>\n",
              "  </svg>\n",
              "    </button>\n",
              "\n",
              "  <style>\n",
              "    .colab-df-container {\n",
              "      display:flex;\n",
              "      gap: 12px;\n",
              "    }\n",
              "\n",
              "    .colab-df-convert {\n",
              "      background-color: #E8F0FE;\n",
              "      border: none;\n",
              "      border-radius: 50%;\n",
              "      cursor: pointer;\n",
              "      display: none;\n",
              "      fill: #1967D2;\n",
              "      height: 32px;\n",
              "      padding: 0 0 0 0;\n",
              "      width: 32px;\n",
              "    }\n",
              "\n",
              "    .colab-df-convert:hover {\n",
              "      background-color: #E2EBFA;\n",
              "      box-shadow: 0px 1px 2px rgba(60, 64, 67, 0.3), 0px 1px 3px 1px rgba(60, 64, 67, 0.15);\n",
              "      fill: #174EA6;\n",
              "    }\n",
              "\n",
              "    .colab-df-buttons div {\n",
              "      margin-bottom: 4px;\n",
              "    }\n",
              "\n",
              "    [theme=dark] .colab-df-convert {\n",
              "      background-color: #3B4455;\n",
              "      fill: #D2E3FC;\n",
              "    }\n",
              "\n",
              "    [theme=dark] .colab-df-convert:hover {\n",
              "      background-color: #434B5C;\n",
              "      box-shadow: 0px 1px 3px 1px rgba(0, 0, 0, 0.15);\n",
              "      filter: drop-shadow(0px 1px 2px rgba(0, 0, 0, 0.3));\n",
              "      fill: #FFFFFF;\n",
              "    }\n",
              "  </style>\n",
              "\n",
              "    <script>\n",
              "      const buttonEl =\n",
              "        document.querySelector('#df-0ded9259-984f-488e-a86e-c60d4f17c39b button.colab-df-convert');\n",
              "      buttonEl.style.display =\n",
              "        google.colab.kernel.accessAllowed ? 'block' : 'none';\n",
              "\n",
              "      async function convertToInteractive(key) {\n",
              "        const element = document.querySelector('#df-0ded9259-984f-488e-a86e-c60d4f17c39b');\n",
              "        const dataTable =\n",
              "          await google.colab.kernel.invokeFunction('convertToInteractive',\n",
              "                                                    [key], {});\n",
              "        if (!dataTable) return;\n",
              "\n",
              "        const docLinkHtml = 'Like what you see? Visit the ' +\n",
              "          '<a target=\"_blank\" href=https://colab.research.google.com/notebooks/data_table.ipynb>data table notebook</a>'\n",
              "          + ' to learn more about interactive tables.';\n",
              "        element.innerHTML = '';\n",
              "        dataTable['output_type'] = 'display_data';\n",
              "        await google.colab.output.renderOutput(dataTable, element);\n",
              "        const docLink = document.createElement('div');\n",
              "        docLink.innerHTML = docLinkHtml;\n",
              "        element.appendChild(docLink);\n",
              "      }\n",
              "    </script>\n",
              "  </div>\n",
              "\n",
              "\n",
              "<div id=\"df-3f29be47-a738-4665-9e24-f2219bf94783\">\n",
              "  <button class=\"colab-df-quickchart\" onclick=\"quickchart('df-3f29be47-a738-4665-9e24-f2219bf94783')\"\n",
              "            title=\"Suggest charts\"\n",
              "            style=\"display:none;\">\n",
              "\n",
              "<svg xmlns=\"http://www.w3.org/2000/svg\" height=\"24px\"viewBox=\"0 0 24 24\"\n",
              "     width=\"24px\">\n",
              "    <g>\n",
              "        <path d=\"M19 3H5c-1.1 0-2 .9-2 2v14c0 1.1.9 2 2 2h14c1.1 0 2-.9 2-2V5c0-1.1-.9-2-2-2zM9 17H7v-7h2v7zm4 0h-2V7h2v10zm4 0h-2v-4h2v4z\"/>\n",
              "    </g>\n",
              "</svg>\n",
              "  </button>\n",
              "\n",
              "<style>\n",
              "  .colab-df-quickchart {\n",
              "      --bg-color: #E8F0FE;\n",
              "      --fill-color: #1967D2;\n",
              "      --hover-bg-color: #E2EBFA;\n",
              "      --hover-fill-color: #174EA6;\n",
              "      --disabled-fill-color: #AAA;\n",
              "      --disabled-bg-color: #DDD;\n",
              "  }\n",
              "\n",
              "  [theme=dark] .colab-df-quickchart {\n",
              "      --bg-color: #3B4455;\n",
              "      --fill-color: #D2E3FC;\n",
              "      --hover-bg-color: #434B5C;\n",
              "      --hover-fill-color: #FFFFFF;\n",
              "      --disabled-bg-color: #3B4455;\n",
              "      --disabled-fill-color: #666;\n",
              "  }\n",
              "\n",
              "  .colab-df-quickchart {\n",
              "    background-color: var(--bg-color);\n",
              "    border: none;\n",
              "    border-radius: 50%;\n",
              "    cursor: pointer;\n",
              "    display: none;\n",
              "    fill: var(--fill-color);\n",
              "    height: 32px;\n",
              "    padding: 0;\n",
              "    width: 32px;\n",
              "  }\n",
              "\n",
              "  .colab-df-quickchart:hover {\n",
              "    background-color: var(--hover-bg-color);\n",
              "    box-shadow: 0 1px 2px rgba(60, 64, 67, 0.3), 0 1px 3px 1px rgba(60, 64, 67, 0.15);\n",
              "    fill: var(--button-hover-fill-color);\n",
              "  }\n",
              "\n",
              "  .colab-df-quickchart-complete:disabled,\n",
              "  .colab-df-quickchart-complete:disabled:hover {\n",
              "    background-color: var(--disabled-bg-color);\n",
              "    fill: var(--disabled-fill-color);\n",
              "    box-shadow: none;\n",
              "  }\n",
              "\n",
              "  .colab-df-spinner {\n",
              "    border: 2px solid var(--fill-color);\n",
              "    border-color: transparent;\n",
              "    border-bottom-color: var(--fill-color);\n",
              "    animation:\n",
              "      spin 1s steps(1) infinite;\n",
              "  }\n",
              "\n",
              "  @keyframes spin {\n",
              "    0% {\n",
              "      border-color: transparent;\n",
              "      border-bottom-color: var(--fill-color);\n",
              "      border-left-color: var(--fill-color);\n",
              "    }\n",
              "    20% {\n",
              "      border-color: transparent;\n",
              "      border-left-color: var(--fill-color);\n",
              "      border-top-color: var(--fill-color);\n",
              "    }\n",
              "    30% {\n",
              "      border-color: transparent;\n",
              "      border-left-color: var(--fill-color);\n",
              "      border-top-color: var(--fill-color);\n",
              "      border-right-color: var(--fill-color);\n",
              "    }\n",
              "    40% {\n",
              "      border-color: transparent;\n",
              "      border-right-color: var(--fill-color);\n",
              "      border-top-color: var(--fill-color);\n",
              "    }\n",
              "    60% {\n",
              "      border-color: transparent;\n",
              "      border-right-color: var(--fill-color);\n",
              "    }\n",
              "    80% {\n",
              "      border-color: transparent;\n",
              "      border-right-color: var(--fill-color);\n",
              "      border-bottom-color: var(--fill-color);\n",
              "    }\n",
              "    90% {\n",
              "      border-color: transparent;\n",
              "      border-bottom-color: var(--fill-color);\n",
              "    }\n",
              "  }\n",
              "</style>\n",
              "\n",
              "  <script>\n",
              "    async function quickchart(key) {\n",
              "      const quickchartButtonEl =\n",
              "        document.querySelector('#' + key + ' button');\n",
              "      quickchartButtonEl.disabled = true;  // To prevent multiple clicks.\n",
              "      quickchartButtonEl.classList.add('colab-df-spinner');\n",
              "      try {\n",
              "        const charts = await google.colab.kernel.invokeFunction(\n",
              "            'suggestCharts', [key], {});\n",
              "      } catch (error) {\n",
              "        console.error('Error during call to suggestCharts:', error);\n",
              "      }\n",
              "      quickchartButtonEl.classList.remove('colab-df-spinner');\n",
              "      quickchartButtonEl.classList.add('colab-df-quickchart-complete');\n",
              "    }\n",
              "    (() => {\n",
              "      let quickchartButtonEl =\n",
              "        document.querySelector('#df-3f29be47-a738-4665-9e24-f2219bf94783 button');\n",
              "      quickchartButtonEl.style.display =\n",
              "        google.colab.kernel.accessAllowed ? 'block' : 'none';\n",
              "    })();\n",
              "  </script>\n",
              "</div>\n",
              "\n",
              "    </div>\n",
              "  </div>\n"
            ],
            "application/vnd.google.colaboratory.intrinsic+json": {
              "type": "dataframe",
              "summary": "{\n  \"name\": \"pd\",\n  \"rows\": 2,\n  \"fields\": [\n    {\n      \"column\": \"ATTORNEY\",\n      \"properties\": {\n        \"dtype\": \"number\",\n        \"std\": 0,\n        \"min\": 0,\n        \"max\": 1,\n        \"num_unique_values\": 2,\n        \"samples\": [\n          1,\n          0\n        ],\n        \"semantic_type\": \"\",\n        \"description\": \"\"\n      }\n    },\n    {\n      \"column\": 0.0,\n      \"properties\": {\n        \"dtype\": \"number\",\n        \"std\": 22,\n        \"min\": 44,\n        \"max\": 76,\n        \"num_unique_values\": 2,\n        \"samples\": [\n          44,\n          76\n        ],\n        \"semantic_type\": \"\",\n        \"description\": \"\"\n      }\n    },\n    {\n      \"column\": 1.0,\n      \"properties\": {\n        \"dtype\": \"number\",\n        \"std\": 6,\n        \"min\": 585,\n        \"max\": 594,\n        \"num_unique_values\": 2,\n        \"samples\": [\n          594,\n          585\n        ],\n        \"semantic_type\": \"\",\n        \"description\": \"\"\n      }\n    }\n  ]\n}"
            }
          },
          "metadata": {},
          "execution_count": 11
        }
      ],
      "source": [
        "pd.crosstab(claimants.ATTORNEY,claimants.CLMINSUR)"
      ]
    },
    {
      "cell_type": "code",
      "execution_count": null,
      "metadata": {
        "ExecuteTime": {
          "end_time": "2022-09-12T07:50:10.646386Z",
          "start_time": "2022-09-12T07:50:10.507765Z"
        },
        "id": "L_vKZh7iGRDf",
        "outputId": "c5e5b97d-95b0-48ed-e3e2-1f121c44f531",
        "colab": {
          "base_uri": "https://localhost:8080/",
          "height": 461
        }
      },
      "outputs": [
        {
          "output_type": "execute_result",
          "data": {
            "text/plain": [
              "<Axes: xlabel='ATTORNEY'>"
            ]
          },
          "metadata": {},
          "execution_count": 12
        },
        {
          "output_type": "display_data",
          "data": {
            "text/plain": [
              "<Figure size 640x480 with 1 Axes>"
            ],
            "image/png": "[encoded data removed]"
          },
          "metadata": {}
        }
      ],
      "source": [
        "pd.crosstab(claimants.ATTORNEY,claimants.CLMINSUR).plot(kind = 'bar')"
      ]
    },
    {
      "cell_type": "code",
      "execution_count": null,
      "metadata": {
        "ExecuteTime": {
          "end_time": "2022-09-12T07:50:10.740857Z",
          "start_time": "2022-09-12T07:50:10.649920Z"
        },
        "id": "x6vUaHhMGRDg",
        "outputId": "e0655fc1-336e-4a41-aafe-08f6489654c7",
        "colab": {
          "base_uri": "https://localhost:8080/",
          "height": 573
        }
      },
      "outputs": [
        {
          "output_type": "stream",
          "name": "stderr",
          "text": [
            "<ipython-input-13-07b3eaeb01ac>:1: FutureWarning: \n",
            "\n",
            "Passing `palette` without assigning `hue` is deprecated and will be removed in v0.14.0. Assign the `x` variable to `hue` and set `legend=False` for the same effect.\n",
            "\n",
            "  sb.countplot(x=\"SEATBELT\",data=claimants,palette=\"hls\")\n"
          ]
        },
        {
          "output_type": "execute_result",
          "data": {
            "text/plain": [
              "<Axes: xlabel='SEATBELT', ylabel='count'>"
            ]
          },
          "metadata": {},
          "execution_count": 13
        },
        {
          "output_type": "display_data",
          "data": {
            "text/plain": [
              "<Figure size 640x480 with 1 Axes>"
            ],
            "image/png": "[encoded data removed]"
          },
          "metadata": {}
        }
      ],
      "source": [
        "sb.countplot(x=\"SEATBELT\",data=claimants,palette=\"hls\")\n"
      ]
    },
    {
      "cell_type": "code",
      "execution_count": null,
      "metadata": {
        "ExecuteTime": {
          "end_time": "2022-09-12T07:50:10.818056Z",
          "start_time": "2022-09-12T07:50:10.743366Z"
        },
        "id": "MjTjsbviGRDh",
        "outputId": "ee36eea9-8773-499a-bb67-65ffea51038e"
      },
      "outputs": [
        {
          "data": {
            "text/plain": [
              "<AxesSubplot:xlabel='CLMINSUR', ylabel='count'>"
            ]
          },
          "execution_count": 13,
          "metadata": {},
          "output_type": "execute_result"
        },
        {
          "data": {
            "image/png": "[encoded data removed]",
            "text/plain": [
              "<Figure size 432x288 with 1 Axes>"
            ]
          },
          "metadata": {
            "needs_background": "light"
          },
          "output_type": "display_data"
        }
      ],
      "source": [
        "sb.countplot(x=\"CLMINSUR\",data=claimants,palette=\"hls\")"
      ]
    },
    {
      "cell_type": "code",
      "execution_count": null,
      "metadata": {
        "ExecuteTime": {
          "end_time": "2022-09-12T07:50:10.927091Z",
          "start_time": "2022-09-12T07:50:10.819517Z"
        },
        "id": "uB_jFuW8GRDh",
        "outputId": "065b1b94-4b41-4c10-9f5d-cb98ffa4e7e7"
      },
      "outputs": [
        {
          "data": {
            "text/plain": [
              "<AxesSubplot:xlabel='SEATBELT'>"
            ]
          },
          "execution_count": 14,
          "metadata": {},
          "output_type": "execute_result"
        },
        {
          "data": {
            "image/png": "[encoded data removed]",
            "text/plain": [
              "<Figure size 432x288 with 1 Axes>"
            ]
          },
          "metadata": {
            "needs_background": "light"
          },
          "output_type": "display_data"
        }
      ],
      "source": [
        "pd.crosstab(claimants.SEATBELT,claimants.CLMINSUR).plot(kind=\"bar\")"
      ]
    },
    {
      "cell_type": "code",
      "execution_count": null,
      "metadata": {
        "ExecuteTime": {
          "end_time": "2022-09-12T07:50:11.004899Z",
          "start_time": "2022-09-12T07:50:10.928312Z"
        },
        "id": "guTBUz3_GRDi",
        "outputId": "e542e0dd-c8e5-4d00-e2d1-5bf17ad4cc2f"
      },
      "outputs": [
        {
          "data": {
            "text/plain": [
              "<AxesSubplot:xlabel='CLMSEX', ylabel='count'>"
            ]
          },
          "execution_count": 15,
          "metadata": {},
          "output_type": "execute_result"
        },
        {
          "data": {
            "image/png": "[encoded data removed]",
            "text/plain": [
              "<Figure size 432x288 with 1 Axes>"
            ]
          },
          "metadata": {
            "needs_background": "light"
          },
          "output_type": "display_data"
        }
      ],
      "source": [
        "sb.countplot(x=\"CLMSEX\",data=claimants,palette=\"hls\")"
      ]
    },
    {
      "cell_type": "code",
      "execution_count": null,
      "metadata": {
        "ExecuteTime": {
          "end_time": "2022-09-12T07:50:11.112821Z",
          "start_time": "2022-09-12T07:50:11.006208Z"
        },
        "id": "ryuOE0uXGRDi",
        "outputId": "933d81d0-f279-44d3-b807-96394e1a26fe"
      },
      "outputs": [
        {
          "data": {
            "text/plain": [
              "<AxesSubplot:xlabel='CLMSEX'>"
            ]
          },
          "execution_count": 16,
          "metadata": {},
          "output_type": "execute_result"
        },
        {
          "data": {
            "image/png": "[encoded data removed]",
            "text/plain": [
              "<Figure size 432x288 with 1 Axes>"
            ]
          },
          "metadata": {
            "needs_background": "light"
          },
          "output_type": "display_data"
        }
      ],
      "source": [
        "pd.crosstab(claimants.CLMSEX,claimants.CLMINSUR).plot(kind=\"bar\")"
      ]
    },
    {
      "cell_type": "code",
      "execution_count": null,
      "metadata": {
        "ExecuteTime": {
          "end_time": "2022-09-12T07:50:11.128306Z",
          "start_time": "2022-09-12T07:50:11.114127Z"
        },
        "id": "20zkUzO2GRDj",
        "outputId": "8811291f-af83-4871-9fba-fce1280ae747",
        "colab": {
          "base_uri": "https://localhost:8080/"
        }
      },
      "outputs": [
        {
          "output_type": "execute_result",
          "data": {
            "text/plain": [
              "CASENUM       0\n",
              "ATTORNEY      0\n",
              "CLMSEX       12\n",
              "CLMINSUR     41\n",
              "SEATBELT     48\n",
              "CLMAGE      189\n",
              "LOSS          0\n",
              "dtype: int64"
            ]
          },
          "metadata": {},
          "execution_count": 14
        }
      ],
      "source": [
        "claimants.isnull().sum()\n",
        "#claimants.shape # 1340 6 => Before dropping null values\n",
        "# To drop null values ( dropping rows)\n",
        "#claimants.dropna().shape # 1096 6 => After dropping null values"
      ]
    },
    {
      "cell_type": "code",
      "execution_count": null,
      "metadata": {
        "ExecuteTime": {
          "end_time": "2022-09-12T07:50:11.143692Z",
          "start_time": "2022-09-12T07:50:11.129624Z"
        },
        "id": "L5H-IRKbGRDk"
      },
      "outputs": [],
      "source": [
        "# Fill nan values with mode of the categorical column\n",
        "claimants[\"CLMSEX\"].fillna(1,inplace=True) # claimants.CLMSEX.mode() = 1\n",
        "claimants[\"CLMINSUR\"].fillna(1,inplace=True) # claimants.CLMINSUR.mode() = 1\n",
        "claimants[\"SEATBELT\"].fillna(0,inplace=True) # claimants.SEATBELT.mode() = 0"
      ]
    },
    {
      "cell_type": "code",
      "execution_count": null,
      "metadata": {
        "ExecuteTime": {
          "end_time": "2022-09-12T07:50:11.159425Z",
          "start_time": "2022-09-12T07:50:11.144952Z"
        },
        "id": "EDpRH_b3GRDl",
        "outputId": "7e66b6b1-ab07-45fc-b92c-976ce345f9b6",
        "colab": {
          "base_uri": "https://localhost:8080/"
        }
      },
      "outputs": [
        {
          "output_type": "execute_result",
          "data": {
            "text/plain": [
              "28.414422241529106"
            ]
          },
          "metadata": {},
          "execution_count": 21
        }
      ],
      "source": [
        "claimants.CLMSEX.mode()\n",
        "claimants.CLMINSUR.mode()\n",
        "claimants.SEATBELT.mode()\n",
        "claimants.CLMAGE.mean()"
      ]
    },
    {
      "cell_type": "code",
      "execution_count": null,
      "metadata": {
        "ExecuteTime": {
          "end_time": "2022-09-12T07:50:11.174927Z",
          "start_time": "2022-09-12T07:50:11.160803Z"
        },
        "id": "nawTYY75GRDm"
      },
      "outputs": [],
      "source": [
        "claimants.CLMAGE.fillna(28.4144,inplace=True) # claimants.CLMAGE.mean() = 28.4"
      ]
    },
    {
      "cell_type": "code",
      "execution_count": null,
      "metadata": {
        "ExecuteTime": {
          "end_time": "2022-09-12T07:50:11.190456Z",
          "start_time": "2022-09-12T07:50:11.178455Z"
        },
        "id": "JDcx7_nQGRDm",
        "outputId": "22363f24-aa3f-4d5f-c44a-0b4a2e178552",
        "colab": {
          "base_uri": "https://localhost:8080/"
        }
      },
      "outputs": [
        {
          "output_type": "execute_result",
          "data": {
            "text/plain": [
              "CASENUM     0\n",
              "ATTORNEY    0\n",
              "CLMSEX      0\n",
              "CLMINSUR    0\n",
              "SEATBELT    0\n",
              "CLMAGE      0\n",
              "LOSS        0\n",
              "dtype: int64"
            ]
          },
          "metadata": {},
          "execution_count": 23
        }
      ],
      "source": [
        "claimants.isnull().sum()"
      ]
    },
    {
      "cell_type": "code",
      "execution_count": null,
      "metadata": {
        "ExecuteTime": {
          "end_time": "2022-09-12T07:50:11.205451Z",
          "start_time": "2022-09-12T07:50:11.193464Z"
        },
        "id": "lt_gkhEhGRDn",
        "outputId": "7d250967-4bb8-4f70-f5a5-8290f210fecd",
        "colab": {
          "base_uri": "https://localhost:8080/"
        }
      },
      "outputs": [
        {
          "output_type": "execute_result",
          "data": {
            "text/plain": [
              "(1340, 7)"
            ]
          },
          "metadata": {},
          "execution_count": 24
        }
      ],
      "source": [
        "# Model building\n",
        "from sklearn.linear_model import LogisticRegression\n",
        "claimants.shape"
      ]
    },
    {
      "cell_type": "code",
      "execution_count": null,
      "metadata": {
        "ExecuteTime": {
          "end_time": "2022-09-12T07:50:42.152287Z",
          "start_time": "2022-09-12T07:50:42.146287Z"
        },
        "id": "urDu1p9WGRDo",
        "outputId": "f94aa4c5-adf3-4c6a-8b2d-70c99bfeddc1",
        "colab": {
          "base_uri": "https://localhost:8080/",
          "height": 213
        }
      },
      "outputs": [
        {
          "output_type": "stream",
          "name": "stderr",
          "text": [
            "/usr/local/lib/python3.10/dist-packages/sklearn/linear_model/_logistic.py:458: ConvergenceWarning: lbfgs failed to converge (status=1):\n",
            "STOP: TOTAL NO. of ITERATIONS REACHED LIMIT.\n",
            "\n",
            "Increase the number of iterations (max_iter) or scale the data as shown in:\n",
            "    https://scikit-learn.org/stable/modules/preprocessing.html\n",
            "Please also refer to the documentation for alternative solver options:\n",
            "    https://scikit-learn.org/stable/modules/linear_model.html#logistic-regression\n",
            "  n_iter_i = _check_optimize_result(\n"
          ]
        },
        {
          "output_type": "execute_result",
          "data": {
            "text/plain": [
              "LogisticRegression()"
            ],
            "text/html": [
              "<style>#sk-container-id-1 {color: black;background-color: white;}#sk-container-id-1 pre{padding: 0;}#sk-container-id-1 div.sk-toggleable {background-color: white;}#sk-container-id-1 label.sk-toggleable__label {cursor: pointer;display: block;width: 100%;margin-bottom: 0;padding: 0.3em;box-sizing: border-box;text-align: center;}#sk-container-id-1 label.sk-toggleable__label-arrow:before {content: \"▸\";float: left;margin-right: 0.25em;color: #696969;}#sk-container-id-1 label.sk-toggleable__label-arrow:hover:before {color: black;}#sk-container-id-1 div.sk-estimator:hover label.sk-toggleable__label-arrow:before {color: black;}#sk-container-id-1 div.sk-toggleable__content {max-height: 0;max-width: 0;overflow: hidden;text-align: left;background-color: #f0f8ff;}#sk-container-id-1 div.sk-toggleable__content pre {margin: 0.2em;color: black;border-radius: 0.25em;background-color: #f0f8ff;}#sk-container-id-1 input.sk-toggleable__control:checked~div.sk-toggleable__content {max-height: 200px;max-width: 100%;overflow: auto;}#sk-container-id-1 input.sk-toggleable__control:checked~label.sk-toggleable__label-arrow:before {content: \"▾\";}#sk-container-id-1 div.sk-estimator input.sk-toggleable__control:checked~label.sk-toggleable__label {background-color: #d4ebff;}#sk-container-id-1 div.sk-label input.sk-toggleable__control:checked~label.sk-toggleable__label {background-color: #d4ebff;}#sk-container-id-1 input.sk-hidden--visually {border: 0;clip: rect(1px 1px 1px 1px);clip: rect(1px, 1px, 1px, 1px);height: 1px;margin: -1px;overflow: hidden;padding: 0;position: absolute;width: 1px;}#sk-container-id-1 div.sk-estimator {font-family: monospace;background-color: #f0f8ff;border: 1px dotted black;border-radius: 0.25em;box-sizing: border-box;margin-bottom: 0.5em;}#sk-container-id-1 div.sk-estimator:hover {background-color: #d4ebff;}#sk-container-id-1 div.sk-parallel-item::after {content: \"\";width: 100%;border-bottom: 1px solid gray;flex-grow: 1;}#sk-container-id-1 div.sk-label:hover label.sk-toggleable__label {background-color: #d4ebff;}#sk-container-id-1 div.sk-serial::before {content: \"\";position: absolute;border-left: 1px solid gray;box-sizing: border-box;top: 0;bottom: 0;left: 50%;z-index: 0;}#sk-container-id-1 div.sk-serial {display: flex;flex-direction: column;align-items: center;background-color: white;padding-right: 0.2em;padding-left: 0.2em;position: relative;}#sk-container-id-1 div.sk-item {position: relative;z-index: 1;}#sk-container-id-1 div.sk-parallel {display: flex;align-items: stretch;justify-content: center;background-color: white;position: relative;}#sk-container-id-1 div.sk-item::before, #sk-container-id-1 div.sk-parallel-item::before {content: \"\";position: absolute;border-left: 1px solid gray;box-sizing: border-box;top: 0;bottom: 0;left: 50%;z-index: -1;}#sk-container-id-1 div.sk-parallel-item {display: flex;flex-direction: column;z-index: 1;position: relative;background-color: white;}#sk-container-id-1 div.sk-parallel-item:first-child::after {align-self: flex-end;width: 50%;}#sk-container-id-1 div.sk-parallel-item:last-child::after {align-self: flex-start;width: 50%;}#sk-container-id-1 div.sk-parallel-item:only-child::after {width: 0;}#sk-container-id-1 div.sk-dashed-wrapped {border: 1px dashed gray;margin: 0 0.4em 0.5em 0.4em;box-sizing: border-box;padding-bottom: 0.4em;background-color: white;}#sk-container-id-1 div.sk-label label {font-family: monospace;font-weight: bold;display: inline-block;line-height: 1.2em;}#sk-container-id-1 div.sk-label-container {text-align: center;}#sk-container-id-1 div.sk-container {/* jupyter's `normalize.less` sets `[hidden] { display: none; }` but bootstrap.min.css set `[hidden] { display: none !important; }` so we also need the `!important` here to be able to override the default hidden behavior on the sphinx rendered scikit-learn.org. See: https://github.com/scikit-learn/scikit-learn/issues/21755 */display: inline-block !important;position: relative;}#sk-container-id-1 div.sk-text-repr-fallback {display: none;}</style><div id=\"sk-container-id-1\" class=\"sk-top-container\"><div class=\"sk-text-repr-fallback\"><pre>LogisticRegression()</pre><b>In a Jupyter environment, please rerun this cell to show the HTML representation or trust the notebook. <br />On GitHub, the HTML representation is unable to render, please try loading this page with nbviewer.org.</b></div><div class=\"sk-container\" hidden><div class=\"sk-item\"><div class=\"sk-estimator sk-toggleable\"><input class=\"sk-toggleable__control sk-hidden--visually\" id=\"sk-estimator-id-1\" type=\"checkbox\" checked><label for=\"sk-estimator-id-1\" class=\"sk-toggleable__label sk-toggleable__label-arrow\">LogisticRegression</label><div class=\"sk-toggleable__content\"><pre>LogisticRegression()</pre></div></div></div></div></div>"
            ]
          },
          "metadata": {},
          "execution_count": 25
        }
      ],
      "source": [
        "X = claimants.iloc[:,[1,2,3,4,5]]\n",
        "Y = claimants.iloc[:,0]\n",
        "classifier = LogisticRegression()\n",
        "classifier.fit(X,Y)"
      ]
    },
    {
      "cell_type": "code",
      "execution_count": null,
      "metadata": {
        "ExecuteTime": {
          "end_time": "2022-09-12T07:50:11.300011Z",
          "start_time": "2022-09-12T07:50:11.285136Z"
        },
        "id": "VA60SHnZGRDo",
        "outputId": "b21f5971-4617-44ce-ad5a-929dad119b16",
        "colab": {
          "base_uri": "https://localhost:8080/"
        }
      },
      "outputs": [
        {
          "output_type": "execute_result",
          "data": {
            "text/plain": [
              "array([[-0.59238452, -0.67983869, -0.11759821, -0.023163  ,  0.08862183],\n",
              "       [ 0.62596524,  0.55829223, -0.81868509, -0.01433802,  0.02530449],\n",
              "       [-0.44901665,  0.51233103,  0.22074712, -0.01822481,  0.01791436],\n",
              "       ...,\n",
              "       [ 0.34001802,  0.2444581 , -0.21657962, -0.02248612,  0.06971445],\n",
              "       [-0.26832142,  0.76415735, -0.52217032, -0.01081567, -0.03696902],\n",
              "       [ 0.42200364,  0.33344863, -0.06112871, -0.02052975,  0.04541692]])"
            ]
          },
          "metadata": {},
          "execution_count": 26
        }
      ],
      "source": [
        "classifier.coef_  # coefficients of features"
      ]
    },
    {
      "cell_type": "code",
      "execution_count": null,
      "metadata": {
        "ExecuteTime": {
          "end_time": "2022-09-12T07:50:11.314760Z",
          "start_time": "2022-09-12T07:50:11.301645Z"
        },
        "id": "bSOmrp7LGRDo",
        "outputId": "35fec87a-1f71-4867-b5ea-d9cda951d998",
        "colab": {
          "base_uri": "https://localhost:8080/"
        }
      },
      "outputs": [
        {
          "output_type": "execute_result",
          "data": {
            "text/plain": [
              "array([[1.90963083e-03, 9.02639586e-05, 1.57441193e-04, ...,\n",
              "        5.95842638e-04, 9.34137077e-06, 2.82384645e-04],\n",
              "       [3.53294550e-04, 2.97826920e-03, 7.58634774e-04, ...,\n",
              "        1.42700130e-03, 8.44401887e-04, 1.49468441e-03],\n",
              "       [2.36361395e-04, 6.52665702e-04, 5.41830448e-04, ...,\n",
              "        4.38740513e-04, 4.55229346e-04, 6.73559474e-04],\n",
              "       ...,\n",
              "       [7.00266282e-04, 7.74722667e-04, 4.77788086e-04, ...,\n",
              "        1.72236323e-03, 7.99024893e-05, 1.26521221e-03],\n",
              "       [3.71137120e-04, 1.74269964e-03, 1.40037710e-03, ...,\n",
              "        7.12850191e-04, 2.25238169e-03, 8.77082309e-04],\n",
              "       [5.64254683e-04, 1.10368099e-03, 7.27475011e-04, ...,\n",
              "        1.64527710e-03, 1.99371468e-04, 1.50400142e-03]])"
            ]
          },
          "metadata": {},
          "execution_count": 27
        }
      ],
      "source": [
        "classifier.predict_proba (X) # Probability values"
      ]
    },
    {
      "cell_type": "code",
      "execution_count": null,
      "metadata": {
        "ExecuteTime": {
          "end_time": "2022-09-12T07:50:11.361756Z",
          "start_time": "2022-09-12T07:50:11.318099Z"
        },
        "id": "ijXrp8BoGRDp",
        "outputId": "2da01983-ce2c-453d-9f53-6f647b04373e",
        "colab": {
          "base_uri": "https://localhost:8080/",
          "height": 206
        }
      },
      "outputs": [
        {
          "output_type": "execute_result",
          "data": {
            "text/plain": [
              "   CASENUM  ATTORNEY  CLMSEX  CLMINSUR  SEATBELT  CLMAGE    LOSS  y_pred\n",
              "0        5         0     0.0       1.0       0.0    50.0  34.940    6409\n",
              "1        3         1     1.0       0.0       0.0    18.0   0.891   30903\n",
              "2       66         1     0.0       1.0       0.0     5.0   0.330    4084\n",
              "3       70         0     0.0       1.0       1.0    31.0   0.037      70\n",
              "4       96         1     0.0       1.0       0.0    30.0   0.038    1010"
            ],
            "text/html": [
              "\n",
              "  <div id=\"df-f0b789f7-b33b-4409-a61c-dc020428e0dc\" class=\"colab-df-container\">\n",
              "    <div>\n",
              "<style scoped>\n",
              "    .dataframe tbody tr th:only-of-type {\n",
              "        vertical-align: middle;\n",
              "    }\n",
              "\n",
              "    .dataframe tbody tr th {\n",
              "        vertical-align: top;\n",
              "    }\n",
              "\n",
              "    .dataframe thead th {\n",
              "        text-align: right;\n",
              "    }\n",
              "</style>\n",
              "<table border=\"1\" class=\"dataframe\">\n",
              "  <thead>\n",
              "    <tr style=\"text-align: right;\">\n",
              "      <th></th>\n",
              "      <th>CASENUM</th>\n",
              "      <th>ATTORNEY</th>\n",
              "      <th>CLMSEX</th>\n",
              "      <th>CLMINSUR</th>\n",
              "      <th>SEATBELT</th>\n",
              "      <th>CLMAGE</th>\n",
              "      <th>LOSS</th>\n",
              "      <th>y_pred</th>\n",
              "    </tr>\n",
              "  </thead>\n",
              "  <tbody>\n",
              "    <tr>\n",
              "      <th>0</th>\n",
              "      <td>5</td>\n",
              "      <td>0</td>\n",
              "      <td>0.0</td>\n",
              "      <td>1.0</td>\n",
              "      <td>0.0</td>\n",
              "      <td>50.0</td>\n",
              "      <td>34.940</td>\n",
              "      <td>6409</td>\n",
              "    </tr>\n",
              "    <tr>\n",
              "      <th>1</th>\n",
              "      <td>3</td>\n",
              "      <td>1</td>\n",
              "      <td>1.0</td>\n",
              "      <td>0.0</td>\n",
              "      <td>0.0</td>\n",
              "      <td>18.0</td>\n",
              "      <td>0.891</td>\n",
              "      <td>30903</td>\n",
              "    </tr>\n",
              "    <tr>\n",
              "      <th>2</th>\n",
              "      <td>66</td>\n",
              "      <td>1</td>\n",
              "      <td>0.0</td>\n",
              "      <td>1.0</td>\n",
              "      <td>0.0</td>\n",
              "      <td>5.0</td>\n",
              "      <td>0.330</td>\n",
              "      <td>4084</td>\n",
              "    </tr>\n",
              "    <tr>\n",
              "      <th>3</th>\n",
              "      <td>70</td>\n",
              "      <td>0</td>\n",
              "      <td>0.0</td>\n",
              "      <td>1.0</td>\n",
              "      <td>1.0</td>\n",
              "      <td>31.0</td>\n",
              "      <td>0.037</td>\n",
              "      <td>70</td>\n",
              "    </tr>\n",
              "    <tr>\n",
              "      <th>4</th>\n",
              "      <td>96</td>\n",
              "      <td>1</td>\n",
              "      <td>0.0</td>\n",
              "      <td>1.0</td>\n",
              "      <td>0.0</td>\n",
              "      <td>30.0</td>\n",
              "      <td>0.038</td>\n",
              "      <td>1010</td>\n",
              "    </tr>\n",
              "  </tbody>\n",
              "</table>\n",
              "</div>\n",
              "    <div class=\"colab-df-buttons\">\n",
              "\n",
              "  <div class=\"colab-df-container\">\n",
              "    <button class=\"colab-df-convert\" onclick=\"convertToInteractive('df-f0b789f7-b33b-4409-a61c-dc020428e0dc')\"\n",
              "            title=\"Convert this dataframe to an interactive table.\"\n",
              "            style=\"display:none;\">\n",
              "\n",
              "  <svg xmlns=\"http://www.w3.org/2000/svg\" height=\"24px\" viewBox=\"0 -960 960 960\">\n",
              "    <path d=\"M120-120v-720h720v720H120Zm60-500h600v-160H180v160Zm220 220h160v-160H400v160Zm0 220h160v-160H400v160ZM180-400h160v-160H180v160Zm440 0h160v-160H620v160ZM180-180h160v-160H180v160Zm440 0h160v-160H620v160Z\"/>\n",
              "  </svg>\n",
              "    </button>\n",
              "\n",
              "  <style>\n",
              "    .colab-df-container {\n",
              "      display:flex;\n",
              "      gap: 12px;\n",
              "    }\n",
              "\n",
              "    .colab-df-convert {\n",
              "      background-color: #E8F0FE;\n",
              "      border: none;\n",
              "      border-radius: 50%;\n",
              "      cursor: pointer;\n",
              "      display: none;\n",
              "      fill: #1967D2;\n",
              "      height: 32px;\n",
              "      padding: 0 0 0 0;\n",
              "      width: 32px;\n",
              "    }\n",
              "\n",
              "    .colab-df-convert:hover {\n",
              "      background-color: #E2EBFA;\n",
              "      box-shadow: 0px 1px 2px rgba(60, 64, 67, 0.3), 0px 1px 3px 1px rgba(60, 64, 67, 0.15);\n",
              "      fill: #174EA6;\n",
              "    }\n",
              "\n",
              "    .colab-df-buttons div {\n",
              "      margin-bottom: 4px;\n",
              "    }\n",
              "\n",
              "    [theme=dark] .colab-df-convert {\n",
              "      background-color: #3B4455;\n",
              "      fill: #D2E3FC;\n",
              "    }\n",
              "\n",
              "    [theme=dark] .colab-df-convert:hover {\n",
              "      background-color: #434B5C;\n",
              "      box-shadow: 0px 1px 3px 1px rgba(0, 0, 0, 0.15);\n",
              "      filter: drop-shadow(0px 1px 2px rgba(0, 0, 0, 0.3));\n",
              "      fill: #FFFFFF;\n",
              "    }\n",
              "  </style>\n",
              "\n",
              "    <script>\n",
              "      const buttonEl =\n",
              "        document.querySelector('#df-f0b789f7-b33b-4409-a61c-dc020428e0dc button.colab-df-convert');\n",
              "      buttonEl.style.display =\n",
              "        google.colab.kernel.accessAllowed ? 'block' : 'none';\n",
              "\n",
              "      async function convertToInteractive(key) {\n",
              "        const element = document.querySelector('#df-f0b789f7-b33b-4409-a61c-dc020428e0dc');\n",
              "        const dataTable =\n",
              "          await google.colab.kernel.invokeFunction('convertToInteractive',\n",
              "                                                    [key], {});\n",
              "        if (!dataTable) return;\n",
              "\n",
              "        const docLinkHtml = 'Like what you see? Visit the ' +\n",
              "          '<a target=\"_blank\" href=https://colab.research.google.com/notebooks/data_table.ipynb>data table notebook</a>'\n",
              "          + ' to learn more about interactive tables.';\n",
              "        element.innerHTML = '';\n",
              "        dataTable['output_type'] = 'display_data';\n",
              "        await google.colab.output.renderOutput(dataTable, element);\n",
              "        const docLink = document.createElement('div');\n",
              "        docLink.innerHTML = docLinkHtml;\n",
              "        element.appendChild(docLink);\n",
              "      }\n",
              "    </script>\n",
              "  </div>\n",
              "\n",
              "\n",
              "<div id=\"df-65f64d07-9e58-47c3-a685-561e2d5a6484\">\n",
              "  <button class=\"colab-df-quickchart\" onclick=\"quickchart('df-65f64d07-9e58-47c3-a685-561e2d5a6484')\"\n",
              "            title=\"Suggest charts\"\n",
              "            style=\"display:none;\">\n",
              "\n",
              "<svg xmlns=\"http://www.w3.org/2000/svg\" height=\"24px\"viewBox=\"0 0 24 24\"\n",
              "     width=\"24px\">\n",
              "    <g>\n",
              "        <path d=\"M19 3H5c-1.1 0-2 .9-2 2v14c0 1.1.9 2 2 2h14c1.1 0 2-.9 2-2V5c0-1.1-.9-2-2-2zM9 17H7v-7h2v7zm4 0h-2V7h2v10zm4 0h-2v-4h2v4z\"/>\n",
              "    </g>\n",
              "</svg>\n",
              "  </button>\n",
              "\n",
              "<style>\n",
              "  .colab-df-quickchart {\n",
              "      --bg-color: #E8F0FE;\n",
              "      --fill-color: #1967D2;\n",
              "      --hover-bg-color: #E2EBFA;\n",
              "      --hover-fill-color: #174EA6;\n",
              "      --disabled-fill-color: #AAA;\n",
              "      --disabled-bg-color: #DDD;\n",
              "  }\n",
              "\n",
              "  [theme=dark] .colab-df-quickchart {\n",
              "      --bg-color: #3B4455;\n",
              "      --fill-color: #D2E3FC;\n",
              "      --hover-bg-color: #434B5C;\n",
              "      --hover-fill-color: #FFFFFF;\n",
              "      --disabled-bg-color: #3B4455;\n",
              "      --disabled-fill-color: #666;\n",
              "  }\n",
              "\n",
              "  .colab-df-quickchart {\n",
              "    background-color: var(--bg-color);\n",
              "    border: none;\n",
              "    border-radius: 50%;\n",
              "    cursor: pointer;\n",
              "    display: none;\n",
              "    fill: var(--fill-color);\n",
              "    height: 32px;\n",
              "    padding: 0;\n",
              "    width: 32px;\n",
              "  }\n",
              "\n",
              "  .colab-df-quickchart:hover {\n",
              "    background-color: var(--hover-bg-color);\n",
              "    box-shadow: 0 1px 2px rgba(60, 64, 67, 0.3), 0 1px 3px 1px rgba(60, 64, 67, 0.15);\n",
              "    fill: var(--button-hover-fill-color);\n",
              "  }\n",
              "\n",
              "  .colab-df-quickchart-complete:disabled,\n",
              "  .colab-df-quickchart-complete:disabled:hover {\n",
              "    background-color: var(--disabled-bg-color);\n",
              "    fill: var(--disabled-fill-color);\n",
              "    box-shadow: none;\n",
              "  }\n",
              "\n",
              "  .colab-df-spinner {\n",
              "    border: 2px solid var(--fill-color);\n",
              "    border-color: transparent;\n",
              "    border-bottom-color: var(--fill-color);\n",
              "    animation:\n",
              "      spin 1s steps(1) infinite;\n",
              "  }\n",
              "\n",
              "  @keyframes spin {\n",
              "    0% {\n",
              "      border-color: transparent;\n",
              "      border-bottom-color: var(--fill-color);\n",
              "      border-left-color: var(--fill-color);\n",
              "    }\n",
              "    20% {\n",
              "      border-color: transparent;\n",
              "      border-left-color: var(--fill-color);\n",
              "      border-top-color: var(--fill-color);\n",
              "    }\n",
              "    30% {\n",
              "      border-color: transparent;\n",
              "      border-left-color: var(--fill-color);\n",
              "      border-top-color: var(--fill-color);\n",
              "      border-right-color: var(--fill-color);\n",
              "    }\n",
              "    40% {\n",
              "      border-color: transparent;\n",
              "      border-right-color: var(--fill-color);\n",
              "      border-top-color: var(--fill-color);\n",
              "    }\n",
              "    60% {\n",
              "      border-color: transparent;\n",
              "      border-right-color: var(--fill-color);\n",
              "    }\n",
              "    80% {\n",
              "      border-color: transparent;\n",
              "      border-right-color: var(--fill-color);\n",
              "      border-bottom-color: var(--fill-color);\n",
              "    }\n",
              "    90% {\n",
              "      border-color: transparent;\n",
              "      border-bottom-color: var(--fill-color);\n",
              "    }\n",
              "  }\n",
              "</style>\n",
              "\n",
              "  <script>\n",
              "    async function quickchart(key) {\n",
              "      const quickchartButtonEl =\n",
              "        document.querySelector('#' + key + ' button');\n",
              "      quickchartButtonEl.disabled = true;  // To prevent multiple clicks.\n",
              "      quickchartButtonEl.classList.add('colab-df-spinner');\n",
              "      try {\n",
              "        const charts = await google.colab.kernel.invokeFunction(\n",
              "            'suggestCharts', [key], {});\n",
              "      } catch (error) {\n",
              "        console.error('Error during call to suggestCharts:', error);\n",
              "      }\n",
              "      quickchartButtonEl.classList.remove('colab-df-spinner');\n",
              "      quickchartButtonEl.classList.add('colab-df-quickchart-complete');\n",
              "    }\n",
              "    (() => {\n",
              "      let quickchartButtonEl =\n",
              "        document.querySelector('#df-65f64d07-9e58-47c3-a685-561e2d5a6484 button');\n",
              "      quickchartButtonEl.style.display =\n",
              "        google.colab.kernel.accessAllowed ? 'block' : 'none';\n",
              "    })();\n",
              "  </script>\n",
              "</div>\n",
              "\n",
              "    </div>\n",
              "  </div>\n"
            ],
            "application/vnd.google.colaboratory.intrinsic+json": {
              "type": "dataframe",
              "variable_name": "claimants",
              "summary": "{\n  \"name\": \"claimants\",\n  \"rows\": 1340,\n  \"fields\": [\n    {\n      \"column\": \"CASENUM\",\n      \"properties\": {\n        \"dtype\": \"number\",\n        \"std\": 9512,\n        \"min\": 0,\n        \"max\": 34153,\n        \"num_unique_values\": 1283,\n        \"samples\": [\n          33440,\n          33455,\n          7140\n        ],\n        \"semantic_type\": \"\",\n        \"description\": \"\"\n      }\n    },\n    {\n      \"column\": \"ATTORNEY\",\n      \"properties\": {\n        \"dtype\": \"number\",\n        \"std\": 0,\n        \"min\": 0,\n        \"max\": 1,\n        \"num_unique_values\": 2,\n        \"samples\": [\n          1,\n          0\n        ],\n        \"semantic_type\": \"\",\n        \"description\": \"\"\n      }\n    },\n    {\n      \"column\": \"CLMSEX\",\n      \"properties\": {\n        \"dtype\": \"number\",\n        \"std\": 0.49624002867855127,\n        \"min\": 0.0,\n        \"max\": 1.0,\n        \"num_unique_values\": 2,\n        \"samples\": [\n          1.0,\n          0.0\n        ],\n        \"semantic_type\": \"\",\n        \"description\": \"\"\n      }\n    },\n    {\n      \"column\": \"CLMINSUR\",\n      \"properties\": {\n        \"dtype\": \"number\",\n        \"std\": 0.2856458051886457,\n        \"min\": 0.0,\n        \"max\": 1.0,\n        \"num_unique_values\": 2,\n        \"samples\": [\n          0.0,\n          1.0\n        ],\n        \"semantic_type\": \"\",\n        \"description\": \"\"\n      }\n    },\n    {\n      \"column\": \"SEATBELT\",\n      \"properties\": {\n        \"dtype\": \"number\",\n        \"std\": 0.12712365114807223,\n        \"min\": 0.0,\n        \"max\": 1.0,\n        \"num_unique_values\": 2,\n        \"samples\": [\n          1.0,\n          0.0\n        ],\n        \"semantic_type\": \"\",\n        \"description\": \"\"\n      }\n    },\n    {\n      \"column\": \"CLMAGE\",\n      \"properties\": {\n        \"dtype\": \"number\",\n        \"std\": 18.81697786985191,\n        \"min\": 0.0,\n        \"max\": 95.0,\n        \"num_unique_values\": 69,\n        \"samples\": [\n          17.0,\n          50.0\n        ],\n        \"semantic_type\": \"\",\n        \"description\": \"\"\n      }\n    },\n    {\n      \"column\": \"LOSS\",\n      \"properties\": {\n        \"dtype\": \"number\",\n        \"std\": 10.63690317364136,\n        \"min\": 0.0,\n        \"max\": 173.604,\n        \"num_unique_values\": 916,\n        \"samples\": [\n          7.068,\n          0.449\n        ],\n        \"semantic_type\": \"\",\n        \"description\": \"\"\n      }\n    },\n    {\n      \"column\": \"y_pred\",\n      \"properties\": {\n        \"dtype\": \"number\",\n        \"std\": 4980,\n        \"min\": 5,\n        \"max\": 33037,\n        \"num_unique_values\": 34,\n        \"samples\": [\n          6330,\n          3906\n        ],\n        \"semantic_type\": \"\",\n        \"description\": \"\"\n      }\n    }\n  ]\n}"
            }
          },
          "metadata": {},
          "execution_count": 29
        }
      ],
      "source": [
        "y_pred = classifier.predict(X)\n",
        "claimants[\"y_pred\"] = y_pred\n",
        "claimants.head()"
      ]
    },
    {
      "cell_type": "code",
      "execution_count": null,
      "metadata": {
        "ExecuteTime": {
          "end_time": "2022-09-12T07:50:11.407884Z",
          "start_time": "2022-09-12T07:50:11.363271Z"
        },
        "id": "RIpvItAnGRDp",
        "outputId": "074f732d-f22f-4f50-8461-44a417d2a4a7"
      },
      "outputs": [
        {
          "data": {
            "text/html": [
              "<div><div id=589d5bd1-9c7f-4353-a103-7622d84a3c90 style=\"display:none; background-color:#9D6CFF; color:white; width:200px; height:30px; padding-left:5px; border-radius:4px; flex-direction:row; justify-content:space-around; align-items:center;\" onmouseover=\"this.style.backgroundColor='#BA9BF8'\" onmouseout=\"this.style.backgroundColor='#9D6CFF'\" onclick=\"window.commands?.execute('create-mitosheet-from-dataframe-output');\">See Full Dataframe in Mito</div> <script> if (window.commands?.hasCommand('create-mitosheet-from-dataframe-output')) document.getElementById('589d5bd1-9c7f-4353-a103-7622d84a3c90').style.display = 'flex' </script> <table border=\"1\" class=\"dataframe\">\n",
              "  <thead>\n",
              "    <tr style=\"text-align: right;\">\n",
              "      <th></th>\n",
              "      <th>ATTORNEY</th>\n",
              "      <th>CLMSEX</th>\n",
              "      <th>CLMINSUR</th>\n",
              "      <th>SEATBELT</th>\n",
              "      <th>CLMAGE</th>\n",
              "      <th>LOSS</th>\n",
              "      <th>y_pred</th>\n",
              "      <th>0</th>\n",
              "      <th>1</th>\n",
              "    </tr>\n",
              "  </thead>\n",
              "  <tbody>\n",
              "    <tr>\n",
              "      <th>0</th>\n",
              "      <td>0</td>\n",
              "      <td>0.0</td>\n",
              "      <td>1.0</td>\n",
              "      <td>0.0</td>\n",
              "      <td>50.0000</td>\n",
              "      <td>34.940</td>\n",
              "      <td>0</td>\n",
              "      <td>0.999974</td>\n",
              "      <td>0.000026</td>\n",
              "    </tr>\n",
              "    <tr>\n",
              "      <th>1</th>\n",
              "      <td>1</td>\n",
              "      <td>1.0</td>\n",
              "      <td>0.0</td>\n",
              "      <td>0.0</td>\n",
              "      <td>18.0000</td>\n",
              "      <td>0.891</td>\n",
              "      <td>1</td>\n",
              "      <td>0.495387</td>\n",
              "      <td>0.504613</td>\n",
              "    </tr>\n",
              "    <tr>\n",
              "      <th>2</th>\n",
              "      <td>1</td>\n",
              "      <td>0.0</td>\n",
              "      <td>1.0</td>\n",
              "      <td>0.0</td>\n",
              "      <td>5.0000</td>\n",
              "      <td>0.330</td>\n",
              "      <td>1</td>\n",
              "      <td>0.425083</td>\n",
              "      <td>0.574917</td>\n",
              "    </tr>\n",
              "    <tr>\n",
              "      <th>3</th>\n",
              "      <td>0</td>\n",
              "      <td>0.0</td>\n",
              "      <td>1.0</td>\n",
              "      <td>1.0</td>\n",
              "      <td>31.0000</td>\n",
              "      <td>0.037</td>\n",
              "      <td>1</td>\n",
              "      <td>0.490007</td>\n",
              "      <td>0.509993</td>\n",
              "    </tr>\n",
              "    <tr>\n",
              "      <th>4</th>\n",
              "      <td>1</td>\n",
              "      <td>0.0</td>\n",
              "      <td>1.0</td>\n",
              "      <td>0.0</td>\n",
              "      <td>30.0000</td>\n",
              "      <td>0.038</td>\n",
              "      <td>1</td>\n",
              "      <td>0.363271</td>\n",
              "      <td>0.636729</td>\n",
              "    </tr>\n",
              "    <tr>\n",
              "      <th>...</th>\n",
              "      <td>...</td>\n",
              "      <td>...</td>\n",
              "      <td>...</td>\n",
              "      <td>...</td>\n",
              "      <td>...</td>\n",
              "      <td>...</td>\n",
              "      <td>...</td>\n",
              "      <td>...</td>\n",
              "      <td>...</td>\n",
              "    </tr>\n",
              "    <tr>\n",
              "      <th>1335</th>\n",
              "      <td>1</td>\n",
              "      <td>0.0</td>\n",
              "      <td>1.0</td>\n",
              "      <td>0.0</td>\n",
              "      <td>28.4144</td>\n",
              "      <td>0.576</td>\n",
              "      <td>1</td>\n",
              "      <td>0.406789</td>\n",
              "      <td>0.593211</td>\n",
              "    </tr>\n",
              "    <tr>\n",
              "      <th>1336</th>\n",
              "      <td>0</td>\n",
              "      <td>1.0</td>\n",
              "      <td>1.0</td>\n",
              "      <td>0.0</td>\n",
              "      <td>46.0000</td>\n",
              "      <td>3.705</td>\n",
              "      <td>0</td>\n",
              "      <td>0.549435</td>\n",
              "      <td>0.450565</td>\n",
              "    </tr>\n",
              "    <tr>\n",
              "      <th>1337</th>\n",
              "      <td>1</td>\n",
              "      <td>1.0</td>\n",
              "      <td>1.0</td>\n",
              "      <td>0.0</td>\n",
              "      <td>39.0000</td>\n",
              "      <td>0.099</td>\n",
              "      <td>1</td>\n",
              "      <td>0.285350</td>\n",
              "      <td>0.714650</td>\n",
              "    </tr>\n",
              "    <tr>\n",
              "      <th>1338</th>\n",
              "      <td>0</td>\n",
              "      <td>1.0</td>\n",
              "      <td>0.0</td>\n",
              "      <td>0.0</td>\n",
              "      <td>8.0000</td>\n",
              "      <td>3.177</td>\n",
              "      <td>0</td>\n",
              "      <td>0.686686</td>\n",
              "      <td>0.313314</td>\n",
              "    </tr>\n",
              "    <tr>\n",
              "      <th>1339</th>\n",
              "      <td>1</td>\n",
              "      <td>1.0</td>\n",
              "      <td>1.0</td>\n",
              "      <td>0.0</td>\n",
              "      <td>30.0000</td>\n",
              "      <td>0.688</td>\n",
              "      <td>1</td>\n",
              "      <td>0.338782</td>\n",
              "      <td>0.661218</td>\n",
              "    </tr>\n",
              "  </tbody>\n",
              "</table></div>"
            ],
            "text/plain": [
              "      ATTORNEY  CLMSEX  CLMINSUR  SEATBELT   CLMAGE    LOSS  y_pred         0  \\\n",
              "0            0     0.0       1.0       0.0  50.0000  34.940       0  0.999974   \n",
              "1            1     1.0       0.0       0.0  18.0000   0.891       1  0.495387   \n",
              "2            1     0.0       1.0       0.0   5.0000   0.330       1  0.425083   \n",
              "3            0     0.0       1.0       1.0  31.0000   0.037       1  0.490007   \n",
              "4            1     0.0       1.0       0.0  30.0000   0.038       1  0.363271   \n",
              "...        ...     ...       ...       ...      ...     ...     ...       ...   \n",
              "1335         1     0.0       1.0       0.0  28.4144   0.576       1  0.406789   \n",
              "1336         0     1.0       1.0       0.0  46.0000   3.705       0  0.549435   \n",
              "1337         1     1.0       1.0       0.0  39.0000   0.099       1  0.285350   \n",
              "1338         0     1.0       0.0       0.0   8.0000   3.177       0  0.686686   \n",
              "1339         1     1.0       1.0       0.0  30.0000   0.688       1  0.338782   \n",
              "\n",
              "             1  \n",
              "0     0.000026  \n",
              "1     0.504613  \n",
              "2     0.574917  \n",
              "3     0.509993  \n",
              "4     0.636729  \n",
              "...        ...  \n",
              "1335  0.593211  \n",
              "1336  0.450565  \n",
              "1337  0.714650  \n",
              "1338  0.313314  \n",
              "1339  0.661218  \n",
              "\n",
              "[1340 rows x 9 columns]"
            ]
          },
          "execution_count": 27,
          "metadata": {},
          "output_type": "execute_result"
        }
      ],
      "source": [
        "y_prob = pd.DataFrame(classifier.predict_proba(X.iloc[:,:]))\n",
        "new_df = pd.concat([claimants,y_prob],axis=1)\n",
        "new_df"
      ]
    },
    {
      "cell_type": "code",
      "execution_count": null,
      "metadata": {
        "ExecuteTime": {
          "end_time": "2022-09-12T07:50:11.423430Z",
          "start_time": "2022-09-12T07:50:11.410281Z"
        },
        "id": "O2Gj3ZnbGRDp",
        "outputId": "17e2d40a-1d9e-4abf-e347-473cdbc02207"
      },
      "outputs": [
        {
          "name": "stdout",
          "output_type": "stream",
          "text": [
            "[[435 250]\n",
            " [147 508]]\n"
          ]
        }
      ],
      "source": [
        "from sklearn.metrics import confusion_matrix\n",
        "confusion_matrix = confusion_matrix(Y,y_pred)\n",
        "print (confusion_matrix)\n"
      ]
    },
    {
      "cell_type": "code",
      "execution_count": null,
      "metadata": {
        "ExecuteTime": {
          "end_time": "2022-09-12T07:50:11.454326Z",
          "start_time": "2022-09-12T07:50:11.427722Z"
        },
        "id": "BVyZseZSGRDq",
        "outputId": "d4a1d42c-7229-43da-f91d-4e42985e48f0"
      },
      "outputs": [
        {
          "data": {
            "text/html": [
              "<div><div id=57fea8e1-6111-440c-8610-606cb56e4eb8 style=\"display:none; background-color:#9D6CFF; color:white; width:200px; height:30px; padding-left:5px; border-radius:4px; flex-direction:row; justify-content:space-around; align-items:center;\" onmouseover=\"this.style.backgroundColor='#BA9BF8'\" onmouseout=\"this.style.backgroundColor='#9D6CFF'\" onclick=\"window.commands?.execute('create-mitosheet-from-dataframe-output');\">See Full Dataframe in Mito</div> <script> if (window.commands?.hasCommand('create-mitosheet-from-dataframe-output')) document.getElementById('57fea8e1-6111-440c-8610-606cb56e4eb8').style.display = 'flex' </script> <table border=\"1\" class=\"dataframe\">\n",
              "  <thead>\n",
              "    <tr style=\"text-align: right;\">\n",
              "      <th>ATTORNEY</th>\n",
              "      <th>0</th>\n",
              "      <th>1</th>\n",
              "    </tr>\n",
              "    <tr>\n",
              "      <th>row_0</th>\n",
              "      <th></th>\n",
              "      <th></th>\n",
              "    </tr>\n",
              "  </thead>\n",
              "  <tbody>\n",
              "    <tr>\n",
              "      <th>0</th>\n",
              "      <td>435</td>\n",
              "      <td>147</td>\n",
              "    </tr>\n",
              "    <tr>\n",
              "      <th>1</th>\n",
              "      <td>250</td>\n",
              "      <td>508</td>\n",
              "    </tr>\n",
              "  </tbody>\n",
              "</table></div>"
            ],
            "text/plain": [
              "ATTORNEY    0    1\n",
              "row_0             \n",
              "0         435  147\n",
              "1         250  508"
            ]
          },
          "execution_count": 29,
          "metadata": {},
          "output_type": "execute_result"
        }
      ],
      "source": [
        "pd.crosstab(y_pred,Y)"
      ]
    },
    {
      "cell_type": "code",
      "execution_count": null,
      "metadata": {
        "ExecuteTime": {
          "end_time": "2022-09-12T07:50:11.469986Z",
          "start_time": "2022-09-12T07:50:11.455762Z"
        },
        "id": "0jigdABjGRDq",
        "outputId": "d9042062-853e-4ef6-eb75-52f625254e09"
      },
      "outputs": [
        {
          "data": {
            "text/plain": [
              "0.7037313432835821"
            ]
          },
          "execution_count": 30,
          "metadata": {},
          "output_type": "execute_result"
        }
      ],
      "source": [
        "#type(y_pred)\n",
        "accuracy = sum(Y==y_pred)/claimants.shape[0]\n",
        "accuracy"
      ]
    },
    {
      "cell_type": "code",
      "execution_count": null,
      "metadata": {
        "ExecuteTime": {
          "end_time": "2022-09-12T07:50:11.484571Z",
          "start_time": "2022-09-12T07:50:11.471543Z"
        },
        "id": "KLHohHFaGRDr",
        "outputId": "a19e23e8-0753-4f76-8469-cbe82128e30b"
      },
      "outputs": [
        {
          "name": "stdout",
          "output_type": "stream",
          "text": [
            "              precision    recall  f1-score   support\n",
            "\n",
            "           0       0.75      0.64      0.69       685\n",
            "           1       0.67      0.78      0.72       655\n",
            "\n",
            "    accuracy                           0.70      1340\n",
            "   macro avg       0.71      0.71      0.70      1340\n",
            "weighted avg       0.71      0.70      0.70      1340\n",
            "\n"
          ]
        }
      ],
      "source": [
        "from sklearn.metrics import classification_report\n",
        "print (classification_report (Y, y_pred))"
      ]
    },
    {
      "cell_type": "code",
      "execution_count": null,
      "metadata": {
        "ExecuteTime": {
          "end_time": "2022-09-12T07:50:11.500641Z",
          "start_time": "2022-09-12T07:50:11.487564Z"
        },
        "id": "MIjnWCKEGRDr",
        "outputId": "35743dcc-adcd-414f-faee-832691f2bc5d",
        "colab": {
          "base_uri": "https://localhost:8080/",
          "height": 332
        }
      },
      "outputs": [
        {
          "output_type": "error",
          "ename": "ValueError",
          "evalue": "multi_class must be in ('ovo', 'ovr')",
          "traceback": [
            "\u001b[0;31m---------------------------------------------------------------------------\u001b[0m",
            "\u001b[0;31mValueError\u001b[0m                                Traceback (most recent call last)",
            "\u001b[0;32m<ipython-input-30-40967116dfee>\u001b[0m in \u001b[0;36m<cell line: 3>\u001b[0;34m()\u001b[0m\n\u001b[1;32m      1\u001b[0m \u001b[0;32mfrom\u001b[0m \u001b[0msklearn\u001b[0m\u001b[0;34m.\u001b[0m\u001b[0mmetrics\u001b[0m \u001b[0;32mimport\u001b[0m \u001b[0mroc_auc_score\u001b[0m\u001b[0;34m\u001b[0m\u001b[0;34m\u001b[0m\u001b[0m\n\u001b[1;32m      2\u001b[0m \u001b[0;32mfrom\u001b[0m \u001b[0msklearn\u001b[0m\u001b[0;34m.\u001b[0m\u001b[0mmetrics\u001b[0m \u001b[0;32mimport\u001b[0m \u001b[0mroc_curve\u001b[0m\u001b[0;34m\u001b[0m\u001b[0;34m\u001b[0m\u001b[0m\n\u001b[0;32m----> 3\u001b[0;31m \u001b[0mLogit_roc_score\u001b[0m\u001b[0;34m=\u001b[0m\u001b[0mroc_auc_score\u001b[0m\u001b[0;34m(\u001b[0m\u001b[0mY\u001b[0m\u001b[0;34m,\u001b[0m\u001b[0mclassifier\u001b[0m\u001b[0;34m.\u001b[0m\u001b[0mpredict\u001b[0m\u001b[0;34m(\u001b[0m\u001b[0mX\u001b[0m\u001b[0;34m)\u001b[0m\u001b[0;34m)\u001b[0m\u001b[0;34m\u001b[0m\u001b[0;34m\u001b[0m\u001b[0m\n\u001b[0m\u001b[1;32m      4\u001b[0m \u001b[0mLogit_roc_score\u001b[0m\u001b[0;34m\u001b[0m\u001b[0;34m\u001b[0m\u001b[0m\n",
            "\u001b[0;32m/usr/local/lib/python3.10/dist-packages/sklearn/metrics/_ranking.py\u001b[0m in \u001b[0;36mroc_auc_score\u001b[0;34m(y_true, y_score, average, sample_weight, max_fpr, multi_class, labels)\u001b[0m\n\u001b[1;32m    563\u001b[0m             )\n\u001b[1;32m    564\u001b[0m         \u001b[0;32mif\u001b[0m \u001b[0mmulti_class\u001b[0m \u001b[0;34m==\u001b[0m \u001b[0;34m\"raise\"\u001b[0m\u001b[0;34m:\u001b[0m\u001b[0;34m\u001b[0m\u001b[0;34m\u001b[0m\u001b[0m\n\u001b[0;32m--> 565\u001b[0;31m             \u001b[0;32mraise\u001b[0m \u001b[0mValueError\u001b[0m\u001b[0;34m(\u001b[0m\u001b[0;34m\"multi_class must be in ('ovo', 'ovr')\"\u001b[0m\u001b[0;34m)\u001b[0m\u001b[0;34m\u001b[0m\u001b[0;34m\u001b[0m\u001b[0m\n\u001b[0m\u001b[1;32m    566\u001b[0m         return _multiclass_roc_auc_score(\n\u001b[1;32m    567\u001b[0m             \u001b[0my_true\u001b[0m\u001b[0;34m,\u001b[0m \u001b[0my_score\u001b[0m\u001b[0;34m,\u001b[0m \u001b[0mlabels\u001b[0m\u001b[0;34m,\u001b[0m \u001b[0mmulti_class\u001b[0m\u001b[0;34m,\u001b[0m \u001b[0maverage\u001b[0m\u001b[0;34m,\u001b[0m \u001b[0msample_weight\u001b[0m\u001b[0;34m\u001b[0m\u001b[0;34m\u001b[0m\u001b[0m\n",
            "\u001b[0;31mValueError\u001b[0m: multi_class must be in ('ovo', 'ovr')"
          ]
        }
      ],
      "source": [
        "from sklearn.metrics import roc_auc_score\n",
        "from sklearn.metrics import roc_curve\n",
        "Logit_roc_score=roc_auc_score(Y,classifier.predict(X))\n",
        "Logit_roc_score"
      ]
    },
    {
      "cell_type": "code",
      "execution_count": null,
      "metadata": {
        "ExecuteTime": {
          "end_time": "2022-09-12T07:50:11.610821Z",
          "start_time": "2022-09-12T07:50:11.501924Z"
        },
        "id": "aJfHNPeqGRDs",
        "outputId": "4a89b5a2-44d5-478a-c001-8d4dd245e90d"
      },
      "outputs": [
        {
          "data": {
            "image/png": "[encoded data removed]",
            "text/plain": [
              "<Figure size 432x288 with 1 Axes>"
            ]
          },
          "metadata": {
            "needs_background": "light"
          },
          "output_type": "display_data"
        }
      ],
      "source": [
        "fpr, tpr, thresholds = roc_curve(Y,classifier.predict_proba(X)[:,1])\n",
        "plt.plot(fpr, tpr, label='Logistic Regression (area=%0.2f)'% Logit_roc_score)\n",
        "plt.plot([0, 1], [0, 1],'r--')\n",
        "plt.xlim([0.0, 1.0])\n",
        "plt.ylim([0.0, 1.05])\n",
        "plt.xlabel('False Positive Rate')\n",
        "plt.ylabel('True Positive Rate')\n",
        "plt.title('Receiver operating characteristic')\n",
        "plt.legend(loc=\"lower right\")\n",
        "plt.show()"
      ]
    },
    {
      "cell_type": "code",
      "execution_count": null,
      "metadata": {
        "ExecuteTime": {
          "end_time": "2022-09-12T07:50:11.625811Z",
          "start_time": "2022-09-12T07:50:11.611853Z"
        },
        "id": "-87CxzcWGRDs"
      },
      "outputs": [],
      "source": [
        "y_prob1 = pd.DataFrame(classifier.predict_proba(X)[:,1])"
      ]
    },
    {
      "cell_type": "code",
      "execution_count": null,
      "metadata": {
        "ExecuteTime": {
          "end_time": "2022-09-12T07:50:11.640901Z",
          "start_time": "2022-09-12T07:50:11.627808Z"
        },
        "id": "Grs62ARMGRDs",
        "outputId": "1c48ff77-e7df-457c-a5f0-28536a66b784"
      },
      "outputs": [
        {
          "data": {
            "text/html": [
              "<div><div id=fbb5dfe4-2fe4-4a3b-be13-6206907c145d style=\"display:none; background-color:#9D6CFF; color:white; width:200px; height:30px; padding-left:5px; border-radius:4px; flex-direction:row; justify-content:space-around; align-items:center;\" onmouseover=\"this.style.backgroundColor='#BA9BF8'\" onmouseout=\"this.style.backgroundColor='#9D6CFF'\" onclick=\"window.commands?.execute('create-mitosheet-from-dataframe-output');\">See Full Dataframe in Mito</div> <script> if (window.commands?.hasCommand('create-mitosheet-from-dataframe-output')) document.getElementById('fbb5dfe4-2fe4-4a3b-be13-6206907c145d').style.display = 'flex' </script> <table border=\"1\" class=\"dataframe\">\n",
              "  <thead>\n",
              "    <tr style=\"text-align: right;\">\n",
              "      <th></th>\n",
              "      <th>0</th>\n",
              "    </tr>\n",
              "  </thead>\n",
              "  <tbody>\n",
              "    <tr>\n",
              "      <th>0</th>\n",
              "      <td>0.000026</td>\n",
              "    </tr>\n",
              "    <tr>\n",
              "      <th>1</th>\n",
              "      <td>0.504613</td>\n",
              "    </tr>\n",
              "    <tr>\n",
              "      <th>2</th>\n",
              "      <td>0.574917</td>\n",
              "    </tr>\n",
              "    <tr>\n",
              "      <th>3</th>\n",
              "      <td>0.509993</td>\n",
              "    </tr>\n",
              "    <tr>\n",
              "      <th>4</th>\n",
              "      <td>0.636729</td>\n",
              "    </tr>\n",
              "    <tr>\n",
              "      <th>...</th>\n",
              "      <td>...</td>\n",
              "    </tr>\n",
              "    <tr>\n",
              "      <th>1335</th>\n",
              "      <td>0.593211</td>\n",
              "    </tr>\n",
              "    <tr>\n",
              "      <th>1336</th>\n",
              "      <td>0.450565</td>\n",
              "    </tr>\n",
              "    <tr>\n",
              "      <th>1337</th>\n",
              "      <td>0.714650</td>\n",
              "    </tr>\n",
              "    <tr>\n",
              "      <th>1338</th>\n",
              "      <td>0.313314</td>\n",
              "    </tr>\n",
              "    <tr>\n",
              "      <th>1339</th>\n",
              "      <td>0.661218</td>\n",
              "    </tr>\n",
              "  </tbody>\n",
              "</table></div>"
            ],
            "text/plain": [
              "             0\n",
              "0     0.000026\n",
              "1     0.504613\n",
              "2     0.574917\n",
              "3     0.509993\n",
              "4     0.636729\n",
              "...        ...\n",
              "1335  0.593211\n",
              "1336  0.450565\n",
              "1337  0.714650\n",
              "1338  0.313314\n",
              "1339  0.661218\n",
              "\n",
              "[1340 rows x 1 columns]"
            ]
          },
          "execution_count": 35,
          "metadata": {},
          "output_type": "execute_result"
        }
      ],
      "source": [
        "y_prob1"
      ]
    },
    {
      "cell_type": "code",
      "execution_count": null,
      "metadata": {
        "ExecuteTime": {
          "end_time": "2022-09-12T07:50:12.299810Z",
          "start_time": "2022-09-12T07:50:11.643964Z"
        },
        "id": "QjVaj5-AGRDt"
      },
      "outputs": [],
      "source": [
        "import statsmodels.api as sm"
      ]
    },
    {
      "cell_type": "code",
      "execution_count": null,
      "metadata": {
        "ExecuteTime": {
          "end_time": "2022-09-12T07:50:12.377437Z",
          "start_time": "2022-09-12T07:50:12.301687Z"
        },
        "id": "rVgdJFTAGRDu"
      },
      "outputs": [],
      "source": [
        "logit = sm.Logit(Y, X)"
      ]
    },
    {
      "cell_type": "code",
      "execution_count": null,
      "metadata": {
        "ExecuteTime": {
          "end_time": "2022-09-12T07:50:12.423856Z",
          "start_time": "2022-09-12T07:50:12.378942Z"
        },
        "id": "tjAqjc5yGRDu",
        "outputId": "621bc26b-ea93-4660-ecdc-e2a39dc9e926"
      },
      "outputs": [
        {
          "name": "stdout",
          "output_type": "stream",
          "text": [
            "Optimization terminated successfully.\n",
            "         Current function value: 0.609294\n",
            "         Iterations 7\n"
          ]
        },
        {
          "data": {
            "text/html": [
              "<table class=\"simpletable\">\n",
              "<caption>Logit Regression Results</caption>\n",
              "<tr>\n",
              "  <th>Dep. Variable:</th>       <td>ATTORNEY</td>     <th>  No. Observations:  </th>  <td>  1340</td>  \n",
              "</tr>\n",
              "<tr>\n",
              "  <th>Model:</th>                 <td>Logit</td>      <th>  Df Residuals:      </th>  <td>  1335</td>  \n",
              "</tr>\n",
              "<tr>\n",
              "  <th>Method:</th>                 <td>MLE</td>       <th>  Df Model:          </th>  <td>     4</td>  \n",
              "</tr>\n",
              "<tr>\n",
              "  <th>Date:</th>            <td>Mon, 12 Sep 2022</td> <th>  Pseudo R-squ.:     </th>  <td>0.1207</td>  \n",
              "</tr>\n",
              "<tr>\n",
              "  <th>Time:</th>                <td>13:20:12</td>     <th>  Log-Likelihood:    </th> <td> -816.45</td> \n",
              "</tr>\n",
              "<tr>\n",
              "  <th>converged:</th>             <td>True</td>       <th>  LL-Null:           </th> <td> -928.48</td> \n",
              "</tr>\n",
              "<tr>\n",
              "  <th>Covariance Type:</th>     <td>nonrobust</td>    <th>  LLR p-value:       </th> <td>2.515e-47</td>\n",
              "</tr>\n",
              "</table>\n",
              "<table class=\"simpletable\">\n",
              "<tr>\n",
              "      <td></td>        <th>coef</th>     <th>std err</th>      <th>z</th>      <th>P>|z|</th>  <th>[0.025</th>    <th>0.975]</th>  \n",
              "</tr>\n",
              "<tr>\n",
              "  <th>CLMSEX</th>   <td>    0.3005</td> <td>    0.116</td> <td>    2.591</td> <td> 0.010</td> <td>    0.073</td> <td>    0.528</td>\n",
              "</tr>\n",
              "<tr>\n",
              "  <th>CLMINSUR</th> <td>    0.4167</td> <td>    0.124</td> <td>    3.364</td> <td> 0.001</td> <td>    0.174</td> <td>    0.660</td>\n",
              "</tr>\n",
              "<tr>\n",
              "  <th>SEATBELT</th> <td>   -0.6828</td> <td>    0.522</td> <td>   -1.308</td> <td> 0.191</td> <td>   -1.706</td> <td>    0.341</td>\n",
              "</tr>\n",
              "<tr>\n",
              "  <th>CLMAGE</th>   <td>    0.0059</td> <td>    0.003</td> <td>    1.951</td> <td> 0.051</td> <td>-2.58e-05</td> <td>    0.012</td>\n",
              "</tr>\n",
              "<tr>\n",
              "  <th>LOSS</th>     <td>   -0.3262</td> <td>    0.029</td> <td>  -11.234</td> <td> 0.000</td> <td>   -0.383</td> <td>   -0.269</td>\n",
              "</tr>\n",
              "</table>"
            ],
            "text/plain": [
              "<class 'statsmodels.iolib.summary.Summary'>\n",
              "\"\"\"\n",
              "                           Logit Regression Results                           \n",
              "==============================================================================\n",
              "Dep. Variable:               ATTORNEY   No. Observations:                 1340\n",
              "Model:                          Logit   Df Residuals:                     1335\n",
              "Method:                           MLE   Df Model:                            4\n",
              "Date:                Mon, 12 Sep 2022   Pseudo R-squ.:                  0.1207\n",
              "Time:                        13:20:12   Log-Likelihood:                -816.45\n",
              "converged:                       True   LL-Null:                       -928.48\n",
              "Covariance Type:            nonrobust   LLR p-value:                 2.515e-47\n",
              "==============================================================================\n",
              "                 coef    std err          z      P>|z|      [0.025      0.975]\n",
              "------------------------------------------------------------------------------\n",
              "CLMSEX         0.3005      0.116      2.591      0.010       0.073       0.528\n",
              "CLMINSUR       0.4167      0.124      3.364      0.001       0.174       0.660\n",
              "SEATBELT      -0.6828      0.522     -1.308      0.191      -1.706       0.341\n",
              "CLMAGE         0.0059      0.003      1.951      0.051   -2.58e-05       0.012\n",
              "LOSS          -0.3262      0.029    -11.234      0.000      -0.383      -0.269\n",
              "==============================================================================\n",
              "\"\"\""
            ]
          },
          "execution_count": 38,
          "metadata": {},
          "output_type": "execute_result"
        }
      ],
      "source": [
        "logit.fit().summary()"
      ]
    },
    {
      "cell_type": "code",
      "execution_count": null,
      "metadata": {
        "ExecuteTime": {
          "end_time": "2022-09-12T07:50:12.439652Z",
          "start_time": "2022-09-12T07:50:12.426142Z"
        },
        "id": "7GGi2-AdGRDu",
        "outputId": "c05dad76-8815-4944-e8c4-d501c6d58937"
      },
      "outputs": [
        {
          "data": {
            "text/plain": [
              "array([0.        , 0.        , 0.        , 0.00145985, 0.00145985,\n",
              "       0.00291971, 0.00291971, 0.00437956, 0.00437956, 0.00583942,\n",
              "       0.00583942, 0.00729927, 0.00729927, 0.00875912, 0.00875912,\n",
              "       0.01021898, 0.01021898, 0.01167883, 0.01167883, 0.01313869,\n",
              "       0.01313869, 0.01459854, 0.01459854, 0.01605839, 0.01605839,\n",
              "       0.01605839, 0.01605839, 0.01605839, 0.01605839, 0.01751825,\n",
              "       0.01751825, 0.01751825, 0.01751825, 0.0189781 , 0.0189781 ,\n",
              "       0.02043796, 0.02043796, 0.02189781, 0.02189781, 0.02481752,\n",
              "       0.02481752, 0.02919708, 0.02919708, 0.03065693, 0.03065693,\n",
              "       0.03357664, 0.03357664, 0.03357664, 0.0350365 , 0.0350365 ,\n",
              "       0.03649635, 0.03649635, 0.0379562 , 0.0379562 , 0.03941606,\n",
              "       0.03941606, 0.04379562, 0.04379562, 0.04525547, 0.04525547,\n",
              "       0.04671533, 0.04671533, 0.04817518, 0.04817518, 0.04963504,\n",
              "       0.04963504, 0.05109489, 0.05109489, 0.0540146 , 0.0540146 ,\n",
              "       0.0540146 , 0.0540146 , 0.05547445, 0.05547445, 0.05839416,\n",
              "       0.05839416, 0.05985401, 0.05985401, 0.06277372, 0.06277372,\n",
              "       0.06277372, 0.06423358, 0.06423358, 0.06569343, 0.06569343,\n",
              "       0.06715328, 0.06715328, 0.07007299, 0.07007299, 0.0729927 ,\n",
              "       0.0729927 , 0.07591241, 0.07591241, 0.07883212, 0.07883212,\n",
              "       0.08029197, 0.08029197, 0.08175182, 0.08175182, 0.08467153,\n",
              "       0.08759124, 0.09051095, 0.09051095, 0.0919708 , 0.0919708 ,\n",
              "       0.09489051, 0.09489051, 0.09635036, 0.09635036, 0.09927007,\n",
              "       0.09927007, 0.10218978, 0.10218978, 0.10656934, 0.10656934,\n",
              "       0.1080292 , 0.1080292 , 0.1080292 , 0.1080292 , 0.10948905,\n",
              "       0.10948905, 0.11094891, 0.11094891, 0.11240876, 0.11240876,\n",
              "       0.11386861, 0.11386861, 0.11532847, 0.11532847, 0.11824818,\n",
              "       0.11824818, 0.12116788, 0.12116788, 0.12262774, 0.12262774,\n",
              "       0.12554745, 0.12554745, 0.1270073 , 0.1270073 , 0.12992701,\n",
              "       0.12992701, 0.13138686, 0.13138686, 0.13284672, 0.13430657,\n",
              "       0.13430657, 0.13576642, 0.13576642, 0.13722628, 0.13722628,\n",
              "       0.14014599, 0.14014599, 0.14160584, 0.14160584, 0.14306569,\n",
              "       0.14306569, 0.1459854 , 0.1459854 , 0.1459854 , 0.15036496,\n",
              "       0.15036496, 0.15182482, 0.15182482, 0.15328467, 0.15328467,\n",
              "       0.15620438, 0.15620438, 0.15620438, 0.16058394, 0.16058394,\n",
              "       0.1620438 , 0.1620438 , 0.16350365, 0.16350365, 0.1649635 ,\n",
              "       0.1649635 , 0.16642336, 0.16642336, 0.16934307, 0.16934307,\n",
              "       0.17080292, 0.17080292, 0.17226277, 0.17226277, 0.17518248,\n",
              "       0.17518248, 0.17664234, 0.17664234, 0.17810219, 0.17810219,\n",
              "       0.17956204, 0.17956204, 0.1810219 , 0.1810219 , 0.18248175,\n",
              "       0.18248175, 0.18394161, 0.18394161, 0.18540146, 0.18540146,\n",
              "       0.18832117, 0.18832117, 0.18978102, 0.18978102, 0.18978102,\n",
              "       0.19124088, 0.19124088, 0.19270073, 0.19270073, 0.19416058,\n",
              "       0.19416058, 0.19562044, 0.19562044, 0.19708029, 0.19708029,\n",
              "       0.2       , 0.2       , 0.20145985, 0.20145985, 0.20291971,\n",
              "       0.20291971, 0.20583942, 0.20583942, 0.20875912, 0.20875912,\n",
              "       0.21167883, 0.21167883, 0.21605839, 0.21605839, 0.21751825,\n",
              "       0.21751825, 0.22043796, 0.22043796, 0.22189781, 0.22189781,\n",
              "       0.22335766, 0.22335766, 0.23065693, 0.23065693, 0.23211679,\n",
              "       0.23211679, 0.23357664, 0.23357664, 0.2350365 , 0.2350365 ,\n",
              "       0.2350365 , 0.24087591, 0.24087591, 0.24233577, 0.24233577,\n",
              "       0.24525547, 0.24525547, 0.24817518, 0.24817518, 0.25109489,\n",
              "       0.25109489, 0.25839416, 0.25839416, 0.26131387, 0.26131387,\n",
              "       0.26277372, 0.26277372, 0.26861314, 0.26861314, 0.26861314,\n",
              "       0.27007299, 0.27445255, 0.27445255, 0.27591241, 0.27591241,\n",
              "       0.27737226, 0.27737226, 0.27883212, 0.27883212, 0.28467153,\n",
              "       0.28467153, 0.28905109, 0.28905109, 0.28905109, 0.28905109,\n",
              "       0.2919708 , 0.2919708 , 0.29489051, 0.29489051, 0.29635036,\n",
              "       0.29635036, 0.29781022, 0.29781022, 0.30072993, 0.30072993,\n",
              "       0.30218978, 0.30510949, 0.30510949, 0.30656934, 0.30656934,\n",
              "       0.3080292 , 0.3080292 , 0.30948905, 0.30948905, 0.31094891,\n",
              "       0.31094891, 0.31240876, 0.31240876, 0.31386861, 0.31386861,\n",
              "       0.31532847, 0.31532847, 0.31678832, 0.31678832, 0.31824818,\n",
              "       0.31824818, 0.32116788, 0.32116788, 0.32554745, 0.32554745,\n",
              "       0.3270073 , 0.3270073 , 0.32846715, 0.32846715, 0.33138686,\n",
              "       0.33138686, 0.33284672, 0.33284672, 0.33868613, 0.33868613,\n",
              "       0.34890511, 0.34890511, 0.36058394, 0.36058394, 0.36350365,\n",
              "       0.36350365, 0.36642336, 0.36642336, 0.36788321, 0.36788321,\n",
              "       0.36934307, 0.36934307, 0.37080292, 0.37080292, 0.37518248,\n",
              "       0.37518248, 0.3810219 , 0.38248175, 0.39416058, 0.39416058,\n",
              "       0.40145985, 0.40145985, 0.40291971, 0.40291971, 0.40437956,\n",
              "       0.40437956, 0.40583942, 0.40583942, 0.40729927, 0.40729927,\n",
              "       0.40875912, 0.40875912, 0.41167883, 0.41167883, 0.41313869,\n",
              "       0.41313869, 0.41459854, 0.41459854, 0.41605839, 0.41605839,\n",
              "       0.42043796, 0.42043796, 0.42627737, 0.42627737, 0.42773723,\n",
              "       0.42773723, 0.43649635, 0.43649635, 0.44963504, 0.44963504,\n",
              "       0.45255474, 0.45255474, 0.4540146 , 0.4540146 , 0.46131387,\n",
              "       0.46131387, 0.46277372, 0.46277372, 0.46423358, 0.46715328,\n",
              "       0.47007299, 0.47007299, 0.4729927 , 0.4729927 , 0.47883212,\n",
              "       0.47883212, 0.48321168, 0.48321168, 0.4919708 , 0.4919708 ,\n",
              "       0.49781022, 0.49781022, 0.49927007, 0.49927007, 0.50364964,\n",
              "       0.50364964, 0.5080292 , 0.5080292 , 0.50948905, 0.50948905,\n",
              "       0.51240876, 0.51240876, 0.52116788, 0.52116788, 0.52408759,\n",
              "       0.52408759, 0.54014599, 0.54014599, 0.54160584, 0.54306569,\n",
              "       0.5459854 , 0.5459854 , 0.54890511, 0.54890511, 0.55182482,\n",
              "       0.55182482, 0.55328467, 0.55328467, 0.55620438, 0.55620438,\n",
              "       0.56058394, 0.56058394, 0.5649635 , 0.5649635 , 0.57226277,\n",
              "       0.57226277, 0.57372263, 0.57372263, 0.57518248, 0.57518248,\n",
              "       0.57956204, 0.57956204, 0.5810219 , 0.5810219 , 0.58248175,\n",
              "       0.58248175, 0.58394161, 0.58394161, 0.60145985, 0.60145985,\n",
              "       0.61459854, 0.61459854, 0.61751825, 0.61751825, 0.6189781 ,\n",
              "       0.6189781 , 0.62335766, 0.62335766, 0.62627737, 0.62627737,\n",
              "       0.62919708, 0.62919708, 0.63211679, 0.63211679, 0.63357664,\n",
              "       0.63357664, 0.6379562 , 0.6379562 , 0.63941606, 0.63941606,\n",
              "       0.66277372, 0.66277372, 0.66861314, 0.66861314, 0.67737226,\n",
              "       0.67737226, 0.68467153, 0.68467153, 0.71240876, 0.71240876,\n",
              "       0.71386861, 0.71386861, 0.71678832, 0.71678832, 0.72262774,\n",
              "       0.72262774, 0.7270073 , 0.72992701, 0.73284672, 0.73284672,\n",
              "       0.73430657, 0.73430657, 0.73722628, 0.73722628, 0.74452555,\n",
              "       0.74452555, 0.75036496, 0.75036496, 0.76350365, 0.76350365,\n",
              "       0.7649635 , 0.7649635 , 0.76642336, 0.76642336, 0.77080292,\n",
              "       0.77080292, 0.77664234, 0.77664234, 0.79124088, 0.79124088,\n",
              "       0.79270073, 0.79270073, 0.79416058, 0.79416058, 0.79562044,\n",
              "       0.79562044, 0.8       , 0.8       , 0.81313869, 0.81313869,\n",
              "       0.82335766, 0.82335766, 0.82627737, 0.82627737, 0.83649635,\n",
              "       0.83649635, 0.84379562, 0.84379562, 0.84963504, 0.84963504,\n",
              "       0.85109489, 0.85109489, 0.85985401, 0.85985401, 0.86715328,\n",
              "       0.86715328, 0.87153285, 0.87445255, 0.87737226, 0.87737226,\n",
              "       0.88905109, 0.88905109, 0.8919708 , 0.8919708 , 0.89343066,\n",
              "       0.89343066, 0.90510949, 0.90510949, 0.91386861, 0.91386861,\n",
              "       0.91532847, 0.91532847, 0.92116788, 0.92116788, 0.93138686,\n",
              "       0.93138686, 0.99270073, 0.99270073, 1.        ])"
            ]
          },
          "execution_count": 39,
          "metadata": {},
          "output_type": "execute_result"
        }
      ],
      "source": [
        "fpr"
      ]
    },
    {
      "cell_type": "code",
      "execution_count": null,
      "metadata": {
        "ExecuteTime": {
          "end_time": "2022-09-12T07:50:12.455211Z",
          "start_time": "2022-09-12T07:50:12.441210Z"
        },
        "id": "zyQ5WXD7GRD8",
        "outputId": "0c0a390a-20ef-423f-b142-b6372e1d734e"
      },
      "outputs": [
        {
          "data": {
            "text/plain": [
              "array([0.        , 0.00152672, 0.00305344, 0.00305344, 0.00763359,\n",
              "       0.00763359, 0.01984733, 0.01984733, 0.02442748, 0.02442748,\n",
              "       0.02900763, 0.02900763, 0.03053435, 0.03053435, 0.03206107,\n",
              "       0.03206107, 0.0351145 , 0.0351145 , 0.04580153, 0.04580153,\n",
              "       0.06412214, 0.06412214, 0.06564885, 0.06564885, 0.06870229,\n",
              "       0.07480916, 0.0870229 , 0.09007634, 0.09312977, 0.09312977,\n",
              "       0.09618321, 0.10076336, 0.10992366, 0.10992366, 0.11603053,\n",
              "       0.11603053, 0.12671756, 0.12671756, 0.12824427, 0.12824427,\n",
              "       0.12977099, 0.12977099, 0.14656489, 0.14656489, 0.15114504,\n",
              "       0.15114504, 0.15267176, 0.15572519, 0.15572519, 0.16030534,\n",
              "       0.16030534, 0.16183206, 0.16335878, 0.17709924, 0.17709924,\n",
              "       0.18625954, 0.18625954, 0.19083969, 0.19083969, 0.20152672,\n",
              "       0.20152672, 0.20763359, 0.20916031, 0.21221374, 0.21221374,\n",
              "       0.21374046, 0.21374046, 0.21679389, 0.21679389, 0.2259542 ,\n",
              "       0.23206107, 0.23816794, 0.23816794, 0.23969466, 0.23969466,\n",
              "       0.24122137, 0.24122137, 0.24427481, 0.24427481, 0.24732824,\n",
              "       0.25038168, 0.25038168, 0.25343511, 0.25343511, 0.25496183,\n",
              "       0.25496183, 0.27022901, 0.27022901, 0.27633588, 0.27633588,\n",
              "       0.2778626 , 0.2778626 , 0.28091603, 0.28091603, 0.28244275,\n",
              "       0.28244275, 0.29312977, 0.29312977, 0.29465649, 0.29465649,\n",
              "       0.29465649, 0.29465649, 0.29923664, 0.29923664, 0.30534351,\n",
              "       0.30534351, 0.30839695, 0.30839695, 0.30992366, 0.30992366,\n",
              "       0.31145038, 0.31145038, 0.31755725, 0.31755725, 0.32977099,\n",
              "       0.33129771, 0.35267176, 0.35572519, 0.36335878, 0.36335878,\n",
              "       0.37099237, 0.37099237, 0.37557252, 0.37557252, 0.38167939,\n",
              "       0.38320611, 0.38625954, 0.38625954, 0.39389313, 0.39389313,\n",
              "       0.39541985, 0.39541985, 0.4       , 0.4       , 0.40305344,\n",
              "       0.40305344, 0.41221374, 0.41221374, 0.41984733, 0.42137405,\n",
              "       0.42290076, 0.42290076, 0.4259542 , 0.4259542 , 0.42900763,\n",
              "       0.43358779, 0.43358779, 0.43664122, 0.43664122, 0.43816794,\n",
              "       0.43816794, 0.45038168, 0.45038168, 0.4519084 , 0.4519084 ,\n",
              "       0.45343511, 0.45343511, 0.45648855, 0.45954198, 0.45954198,\n",
              "       0.4610687 , 0.4610687 , 0.47022901, 0.47022901, 0.47328244,\n",
              "       0.47328244, 0.47480916, 0.47938931, 0.47938931, 0.48396947,\n",
              "       0.48396947, 0.4870229 , 0.4870229 , 0.49160305, 0.49160305,\n",
              "       0.49618321, 0.49618321, 0.50229008, 0.50229008, 0.50687023,\n",
              "       0.50687023, 0.50839695, 0.50839695, 0.51603053, 0.51603053,\n",
              "       0.51908397, 0.51908397, 0.5221374 , 0.5221374 , 0.52366412,\n",
              "       0.52366412, 0.52519084, 0.52519084, 0.52671756, 0.52671756,\n",
              "       0.52977099, 0.52977099, 0.53282443, 0.53282443, 0.54045802,\n",
              "       0.54045802, 0.54351145, 0.54351145, 0.54656489, 0.54961832,\n",
              "       0.54961832, 0.56793893, 0.56793893, 0.57099237, 0.57099237,\n",
              "       0.57862595, 0.57862595, 0.58167939, 0.58167939, 0.58473282,\n",
              "       0.58473282, 0.58778626, 0.58778626, 0.59083969, 0.59083969,\n",
              "       0.59236641, 0.59236641, 0.59847328, 0.59847328, 0.60152672,\n",
              "       0.60152672, 0.60305344, 0.60305344, 0.60458015, 0.60458015,\n",
              "       0.60763359, 0.60763359, 0.60916031, 0.60916031, 0.61068702,\n",
              "       0.61068702, 0.61374046, 0.61374046, 0.61832061, 0.61832061,\n",
              "       0.61984733, 0.61984733, 0.62748092, 0.62748092, 0.63053435,\n",
              "       0.63358779, 0.63358779, 0.63816794, 0.63816794, 0.63969466,\n",
              "       0.63969466, 0.64274809, 0.64274809, 0.65038168, 0.65038168,\n",
              "       0.65954198, 0.65954198, 0.6610687 , 0.6610687 , 0.66412214,\n",
              "       0.66412214, 0.66564885, 0.66564885, 0.66870229, 0.67022901,\n",
              "       0.67175573, 0.67175573, 0.67480916, 0.67480916, 0.6778626 ,\n",
              "       0.6778626 , 0.68854962, 0.68854962, 0.69312977, 0.69312977,\n",
              "       0.69618321, 0.69618321, 0.69770992, 0.70076336, 0.70229008,\n",
              "       0.70229008, 0.70381679, 0.70381679, 0.70687023, 0.70687023,\n",
              "       0.70992366, 0.70992366, 0.71603053, 0.71603053, 0.71755725,\n",
              "       0.71755725, 0.71755725, 0.7221374 , 0.7221374 , 0.72366412,\n",
              "       0.72366412, 0.72519084, 0.72519084, 0.72671756, 0.72671756,\n",
              "       0.73129771, 0.73129771, 0.73282443, 0.73282443, 0.7389313 ,\n",
              "       0.7389313 , 0.74198473, 0.74198473, 0.74351145, 0.74351145,\n",
              "       0.74656489, 0.74656489, 0.74961832, 0.74961832, 0.75114504,\n",
              "       0.75114504, 0.75572519, 0.75572519, 0.75725191, 0.75725191,\n",
              "       0.76030534, 0.76030534, 0.76335878, 0.76335878, 0.76641221,\n",
              "       0.76641221, 0.76793893, 0.76793893, 0.7740458 , 0.7740458 ,\n",
              "       0.77557252, 0.77557252, 0.77709924, 0.77709924, 0.77862595,\n",
              "       0.77862595, 0.78015267, 0.78015267, 0.78167939, 0.78167939,\n",
              "       0.78320611, 0.78320611, 0.78473282, 0.78473282, 0.78778626,\n",
              "       0.78778626, 0.78931298, 0.78931298, 0.79236641, 0.79236641,\n",
              "       0.79694656, 0.79694656, 0.8       , 0.8       , 0.80305344,\n",
              "       0.80305344, 0.80916031, 0.80916031, 0.81068702, 0.81068702,\n",
              "       0.81221374, 0.81221374, 0.81374046, 0.81374046, 0.81526718,\n",
              "       0.81526718, 0.81679389, 0.81679389, 0.81832061, 0.81832061,\n",
              "       0.81984733, 0.81984733, 0.82137405, 0.82137405, 0.8259542 ,\n",
              "       0.8259542 , 0.82900763, 0.82900763, 0.83053435, 0.83053435,\n",
              "       0.83206107, 0.83206107, 0.83358779, 0.83358779, 0.83358779,\n",
              "       0.83358779, 0.83969466, 0.83969466, 0.84122137, 0.84122137,\n",
              "       0.84427481, 0.84427481, 0.84580153, 0.84580153, 0.84732824,\n",
              "       0.84732824, 0.85038168, 0.85038168, 0.8519084 , 0.8519084 ,\n",
              "       0.85496183, 0.85496183, 0.85648855, 0.85648855, 0.8610687 ,\n",
              "       0.8610687 , 0.86259542, 0.86259542, 0.86412214, 0.86412214,\n",
              "       0.86717557, 0.86717557, 0.86870229, 0.86870229, 0.87022901,\n",
              "       0.87022901, 0.87480916, 0.87480916, 0.8778626 , 0.8778626 ,\n",
              "       0.87938931, 0.87938931, 0.88091603, 0.88091603, 0.88244275,\n",
              "       0.88244275, 0.88396947, 0.88396947, 0.88549618, 0.88549618,\n",
              "       0.88854962, 0.88854962, 0.89007634, 0.89007634, 0.89160305,\n",
              "       0.89160305, 0.89465649, 0.89465649, 0.89618321, 0.89618321,\n",
              "       0.89770992, 0.89770992, 0.89923664, 0.89923664, 0.90381679,\n",
              "       0.90381679, 0.90534351, 0.90534351, 0.90687023, 0.90687023,\n",
              "       0.90839695, 0.90839695, 0.90992366, 0.90992366, 0.91145038,\n",
              "       0.91145038, 0.9129771 , 0.9129771 , 0.91603053, 0.91603053,\n",
              "       0.91908397, 0.91908397, 0.92061069, 0.92061069, 0.9221374 ,\n",
              "       0.9221374 , 0.92366412, 0.92366412, 0.92519084, 0.92519084,\n",
              "       0.92671756, 0.92671756, 0.92824427, 0.92824427, 0.92977099,\n",
              "       0.92977099, 0.93129771, 0.93129771, 0.93435115, 0.93435115,\n",
              "       0.93587786, 0.93587786, 0.93587786, 0.93587786, 0.93740458,\n",
              "       0.93740458, 0.9389313 , 0.9389313 , 0.94045802, 0.94045802,\n",
              "       0.94351145, 0.94351145, 0.94656489, 0.94656489, 0.94961832,\n",
              "       0.94961832, 0.95114504, 0.95114504, 0.95267176, 0.95267176,\n",
              "       0.95419847, 0.95419847, 0.95572519, 0.95572519, 0.95725191,\n",
              "       0.95725191, 0.95877863, 0.95877863, 0.96030534, 0.96030534,\n",
              "       0.96183206, 0.96183206, 0.96335878, 0.96335878, 0.9648855 ,\n",
              "       0.9648855 , 0.96641221, 0.96641221, 0.96793893, 0.96793893,\n",
              "       0.97099237, 0.97099237, 0.97251908, 0.97251908, 0.9740458 ,\n",
              "       0.9740458 , 0.97557252, 0.97557252, 0.97709924, 0.97709924,\n",
              "       0.97862595, 0.97862595, 0.97862595, 0.97862595, 0.98167939,\n",
              "       0.98167939, 0.98320611, 0.98320611, 0.98473282, 0.98473282,\n",
              "       0.98778626, 0.98778626, 0.99083969, 0.99083969, 0.99236641,\n",
              "       0.99236641, 0.99389313, 0.99389313, 0.99694656, 0.99694656,\n",
              "       0.99847328, 0.99847328, 1.        , 1.        ])"
            ]
          },
          "execution_count": 40,
          "metadata": {},
          "output_type": "execute_result"
        }
      ],
      "source": [
        "tpr"
      ]
    },
    {
      "cell_type": "code",
      "execution_count": null,
      "metadata": {
        "ExecuteTime": {
          "end_time": "2022-09-12T07:50:13.138169Z",
          "start_time": "2022-09-12T07:50:12.457779Z"
        },
        "id": "qaFQZFYmGRD-",
        "outputId": "9d471a7f-a084-4a99-ce70-c0fffaa575d1"
      },
      "outputs": [
        {
          "data": {
            "text/html": [
              "<div><div id=498abcff-d9ad-443d-9e75-ca0991e49001 style=\"display:none; background-color:#9D6CFF; color:white; width:200px; height:30px; padding-left:5px; border-radius:4px; flex-direction:row; justify-content:space-around; align-items:center;\" onmouseover=\"this.style.backgroundColor='#BA9BF8'\" onmouseout=\"this.style.backgroundColor='#9D6CFF'\" onclick=\"window.commands?.execute('create-mitosheet-from-dataframe-output');\">See Full Dataframe in Mito</div> <script> if (window.commands?.hasCommand('create-mitosheet-from-dataframe-output')) document.getElementById('498abcff-d9ad-443d-9e75-ca0991e49001').style.display = 'flex' </script> <table border=\"1\" class=\"dataframe\">\n",
              "  <thead>\n",
              "    <tr style=\"text-align: right;\">\n",
              "      <th></th>\n",
              "      <th>thresholds</th>\n",
              "      <th>accuracy</th>\n",
              "    </tr>\n",
              "  </thead>\n",
              "  <tbody>\n",
              "    <tr>\n",
              "      <th>317</th>\n",
              "      <td>5.324383e-01</td>\n",
              "      <td>0.713433</td>\n",
              "    </tr>\n",
              "    <tr>\n",
              "      <th>321</th>\n",
              "      <td>5.285764e-01</td>\n",
              "      <td>0.713433</td>\n",
              "    </tr>\n",
              "    <tr>\n",
              "      <th>322</th>\n",
              "      <td>5.250800e-01</td>\n",
              "      <td>0.713433</td>\n",
              "    </tr>\n",
              "    <tr>\n",
              "      <th>310</th>\n",
              "      <td>5.392288e-01</td>\n",
              "      <td>0.712687</td>\n",
              "    </tr>\n",
              "    <tr>\n",
              "      <th>312</th>\n",
              "      <td>5.370079e-01</td>\n",
              "      <td>0.712687</td>\n",
              "    </tr>\n",
              "    <tr>\n",
              "      <th>...</th>\n",
              "      <td>...</td>\n",
              "      <td>...</td>\n",
              "    </tr>\n",
              "    <tr>\n",
              "      <th>0</th>\n",
              "      <td>1.769008e+00</td>\n",
              "      <td>0.511194</td>\n",
              "    </tr>\n",
              "    <tr>\n",
              "      <th>1</th>\n",
              "      <td>7.690085e-01</td>\n",
              "      <td>0.511194</td>\n",
              "    </tr>\n",
              "    <tr>\n",
              "      <th>551</th>\n",
              "      <td>1.432688e-11</td>\n",
              "      <td>0.492537</td>\n",
              "    </tr>\n",
              "    <tr>\n",
              "      <th>552</th>\n",
              "      <td>7.980210e-12</td>\n",
              "      <td>0.491791</td>\n",
              "    </tr>\n",
              "    <tr>\n",
              "      <th>553</th>\n",
              "      <td>1.326704e-24</td>\n",
              "      <td>0.489552</td>\n",
              "    </tr>\n",
              "  </tbody>\n",
              "</table></div>"
            ],
            "text/plain": [
              "       thresholds  accuracy\n",
              "317  5.324383e-01  0.713433\n",
              "321  5.285764e-01  0.713433\n",
              "322  5.250800e-01  0.713433\n",
              "310  5.392288e-01  0.712687\n",
              "312  5.370079e-01  0.712687\n",
              "..            ...       ...\n",
              "0    1.769008e+00  0.511194\n",
              "1    7.690085e-01  0.511194\n",
              "551  1.432688e-11  0.492537\n",
              "552  7.980210e-12  0.491791\n",
              "553  1.326704e-24  0.489552\n",
              "\n",
              "[554 rows x 2 columns]"
            ]
          },
          "execution_count": 41,
          "metadata": {},
          "output_type": "execute_result"
        }
      ],
      "source": [
        "from sklearn.metrics import accuracy_score\n",
        "accuracy_ls = []\n",
        "for thres in thresholds:\n",
        "    y_pred = np.where(classifier.predict_proba(X)[:,1]>thres,1,0)\n",
        "    accuracy_ls.append(accuracy_score(Y, y_pred, normalize=True))\n",
        "\n",
        "accuracy_ls = pd.concat([pd.Series(thresholds), pd.Series(accuracy_ls)],\n",
        "                        axis=1)\n",
        "accuracy_ls.columns = ['thresholds', 'accuracy']\n",
        "accuracy_ls.sort_values(by='accuracy', ascending=False, inplace=True)\n",
        "accuracy_ls"
      ]
    },
    {
      "cell_type": "code",
      "execution_count": null,
      "metadata": {
        "ExecuteTime": {
          "end_time": "2022-09-12T07:50:13.153921Z",
          "start_time": "2022-09-12T07:50:13.139388Z"
        },
        "id": "wTzZPGqvGRD_",
        "outputId": "d8d7f940-9640-4425-8908-43b52b8b772d"
      },
      "outputs": [
        {
          "name": "stdout",
          "output_type": "stream",
          "text": [
            "Best Threshold=0.525080\n"
          ]
        }
      ],
      "source": [
        "from numpy import argmax\n",
        "J = tpr - fpr\n",
        "ix = argmax(J)\n",
        "best_thresh = thresholds[ix]\n",
        "print('Best Threshold=%f' % (best_thresh))"
      ]
    },
    {
      "cell_type": "code",
      "execution_count": null,
      "metadata": {
        "ExecuteTime": {
          "end_time": "2022-09-12T07:50:13.169628Z",
          "start_time": "2022-09-12T07:50:13.154837Z"
        },
        "id": "IWReNBMdGRD_",
        "outputId": "a6bf643c-cb83-4864-8fa2-9a2da544fee3"
      },
      "outputs": [
        {
          "name": "stdout",
          "output_type": "stream",
          "text": [
            "              precision    recall  f1-score   support\n",
            "\n",
            "           0       0.75      0.67      0.70       685\n",
            "           1       0.69      0.76      0.72       655\n",
            "\n",
            "    accuracy                           0.71      1340\n",
            "   macro avg       0.72      0.71      0.71      1340\n",
            "weighted avg       0.72      0.71      0.71      1340\n",
            "\n"
          ]
        }
      ],
      "source": [
        "threshold = 0.525080\n",
        "preds = np.where(classifier.predict_proba(X)[:,1] > threshold, 1, 0)\n",
        "print(classification_report(Y,preds))"
      ]
    }
  ],
  "metadata": {
    "kernelspec": {
      "display_name": "Python 3 (ipykernel)",
      "language": "python",
      "name": "python3"
    },
    "language_info": {
      "codemirror_mode": {
        "name": "ipython",
        "version": 3
      },
      "file_extension": ".py",
      "mimetype": "text/x-python",
      "name": "python",
      "nbconvert_exporter": "python",
      "pygments_lexer": "ipython3",
      "version": "3.9.7"
    },
    "varInspector": {
      "cols": {
        "lenName": 16,
        "lenType": 16,
        "lenVar": 40
      },
      "kernels_config": {
        "python": {
          "delete_cmd_postfix": "",
          "delete_cmd_prefix": "del ",
          "library": "var_list.py",
          "varRefreshCmd": "print(var_dic_list())"
        },
        "r": {
          "delete_cmd_postfix": ") ",
          "delete_cmd_prefix": "rm(",
          "library": "var_list.r",
          "varRefreshCmd": "cat(var_dic_list()) "
        }
      },
      "types_to_exclude": [
        "module",
        "function",
        "builtin_function_or_method",
        "instance",
        "_Feature"
      ],
      "window_display": false
    },
    "colab": {
      "provenance": [],
      "include_colab_link": true
    }
  },
  "nbformat": 4,
  "nbformat_minor": 0
}